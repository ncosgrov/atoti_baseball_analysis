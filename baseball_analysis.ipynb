{
 "cells": [
  {
   "cell_type": "markdown",
   "metadata": {},
   "source": [
    "# Can ATOTI Predict Baseball? How will the COVID Season Impact Baseball Stats?\n",
    "\n",
    "Baseball is a game built on statistics.  There seems to be a statistic for every possible combination and permutation of events that can happen in a game or a  season.  Fans enjoy comparing stats in a perpetual game of \"who was the greatest (<i>fill in the blank</i>); creating matchups that span generations.  The availability of data analysis tool like ATOTI bring a whole new dimension (no pun intended) to these discussons allowing for endless analysis which <b><u> WARNING</u></b> can become addictive :-).\n",
    "\n",
    "For a game that loves its statistics, the 2020 Covid shortened season presents a nightmare.  Instead of playing 162 games the season will only be 60, setting up no doubt endless \"what if\" debates in future years in regards to players active in this season who just miss key milestones.\n",
    "\n",
    "In this notebook, we decide to get a jump on the debate by looking at veterans who have diminishing season to make up those lost 102 games, focusing in on a specific example.\n"
   ]
  },
  {
   "cell_type": "markdown",
   "metadata": {},
   "source": [
    "## The Data\n",
    "\n",
    "The dataset used comes from Sean Lahman's website at http://www.seanlahman.com/baseball-archive/statistics/. The work is licensed under a Creative Commons Attribution-ShareAlike 3.0 Unported License. This is a great site and has more types of Baseball stats starting from 1871 than you can imageine.  For the purpose of this exercise we will confine ourselve to Batting Statistics\n",
    "\n",
    "We will first start by importing support libraries and atoti creating an atoti session."
   ]
  },
  {
   "cell_type": "code",
   "execution_count": 1,
   "metadata": {},
   "outputs": [
    {
     "name": "stdout",
     "output_type": "stream",
     "text": [
      "Welcome to atoti 0.4.1!\n",
      "\n",
      "By using this community edition, you agree with the license available at https://www.atoti.io/eula.\n",
      "Browse the official documentation at https://docs.atoti.io.\n",
      "Join the community at https://www.atoti.io/register.\n",
      "\n",
      "You can hide this message by setting the ATOTI_HIDE_EULA_MESSAGE environment variable to True.\n"
     ]
    }
   ],
   "source": [
    "import atoti as tt #Get Atoti\n",
    "import pandas as pd # data processing, CSV file I/O (e.g. pd.read_csv)\n",
    "import numpy as np # linear algebra\n"
   ]
  },
  {
   "cell_type": "markdown",
   "metadata": {},
   "source": [
    "## Importing The Data and Wrangeling \n",
    "\n",
    "The dataset used comes from Sean Lahman's website at http://www.seanlahman.com/baseball-archive/statistics/. The work is licensed under a Creative Commons Attribution-ShareAlike 3.0 Unported License. This is a great site and has more types of Baseball stats than you can imagine.  For the purpose of this exercise we will confine ourselve to Batting Statistics. For those more interested in the analaysis, you can skip to the <i> Create the ATOTI Cube</i> section\n",
    "\n",
    "We begin by importing the master table which has individual player information "
   ]
  },
  {
   "cell_type": "code",
   "execution_count": 2,
   "metadata": {},
   "outputs": [],
   "source": [
    "pd.set_option('display.max_columns', None) \n",
    "#dM=pd.read_csv('C:/Users/ncosgrov/DataSets/Baseball/2019/baseballdatabank-master/core/people.csv', usecols = ['playerID','birthYear','nameGiven','nameLast','nameFirst','bats','throws','debut','finalGame']) \n",
    "dM=pd.read_csv('./BaseballData/people.csv', usecols = ['playerID','birthYear','nameGiven','nameLast','nameFirst','bats','throws','debut','finalGame'])  "
   ]
  },
  {
   "cell_type": "code",
   "execution_count": 3,
   "metadata": {},
   "outputs": [
    {
     "data": {
      "text/html": [
       "<div>\n",
       "<style scoped>\n",
       "    .dataframe tbody tr th:only-of-type {\n",
       "        vertical-align: middle;\n",
       "    }\n",
       "\n",
       "    .dataframe tbody tr th {\n",
       "        vertical-align: top;\n",
       "    }\n",
       "\n",
       "    .dataframe thead th {\n",
       "        text-align: right;\n",
       "    }\n",
       "</style>\n",
       "<table border=\"1\" class=\"dataframe\">\n",
       "  <thead>\n",
       "    <tr style=\"text-align: right;\">\n",
       "      <th></th>\n",
       "      <th>playerID</th>\n",
       "      <th>birthYear</th>\n",
       "      <th>nameFirst</th>\n",
       "      <th>nameLast</th>\n",
       "      <th>nameGiven</th>\n",
       "      <th>bats</th>\n",
       "      <th>throws</th>\n",
       "      <th>debut</th>\n",
       "      <th>finalGame</th>\n",
       "    </tr>\n",
       "  </thead>\n",
       "  <tbody>\n",
       "    <tr>\n",
       "      <th>0</th>\n",
       "      <td>aardsda01</td>\n",
       "      <td>1981.0</td>\n",
       "      <td>David</td>\n",
       "      <td>Aardsma</td>\n",
       "      <td>David Allan</td>\n",
       "      <td>R</td>\n",
       "      <td>R</td>\n",
       "      <td>2004-04-06</td>\n",
       "      <td>2015-08-23</td>\n",
       "    </tr>\n",
       "    <tr>\n",
       "      <th>1</th>\n",
       "      <td>aaronha01</td>\n",
       "      <td>1934.0</td>\n",
       "      <td>Hank</td>\n",
       "      <td>Aaron</td>\n",
       "      <td>Henry Louis</td>\n",
       "      <td>R</td>\n",
       "      <td>R</td>\n",
       "      <td>1954-04-13</td>\n",
       "      <td>1976-10-03</td>\n",
       "    </tr>\n",
       "    <tr>\n",
       "      <th>2</th>\n",
       "      <td>aaronto01</td>\n",
       "      <td>1939.0</td>\n",
       "      <td>Tommie</td>\n",
       "      <td>Aaron</td>\n",
       "      <td>Tommie Lee</td>\n",
       "      <td>R</td>\n",
       "      <td>R</td>\n",
       "      <td>1962-04-10</td>\n",
       "      <td>1971-09-26</td>\n",
       "    </tr>\n",
       "    <tr>\n",
       "      <th>3</th>\n",
       "      <td>aasedo01</td>\n",
       "      <td>1954.0</td>\n",
       "      <td>Don</td>\n",
       "      <td>Aase</td>\n",
       "      <td>Donald William</td>\n",
       "      <td>R</td>\n",
       "      <td>R</td>\n",
       "      <td>1977-07-26</td>\n",
       "      <td>1990-10-03</td>\n",
       "    </tr>\n",
       "    <tr>\n",
       "      <th>4</th>\n",
       "      <td>abadan01</td>\n",
       "      <td>1972.0</td>\n",
       "      <td>Andy</td>\n",
       "      <td>Abad</td>\n",
       "      <td>Fausto Andres</td>\n",
       "      <td>L</td>\n",
       "      <td>L</td>\n",
       "      <td>2001-09-10</td>\n",
       "      <td>2006-04-13</td>\n",
       "    </tr>\n",
       "  </tbody>\n",
       "</table>\n",
       "</div>"
      ],
      "text/plain": [
       "    playerID  birthYear nameFirst nameLast       nameGiven bats throws  \\\n",
       "0  aardsda01     1981.0     David  Aardsma     David Allan    R      R   \n",
       "1  aaronha01     1934.0      Hank    Aaron     Henry Louis    R      R   \n",
       "2  aaronto01     1939.0    Tommie    Aaron      Tommie Lee    R      R   \n",
       "3   aasedo01     1954.0       Don     Aase  Donald William    R      R   \n",
       "4   abadan01     1972.0      Andy     Abad   Fausto Andres    L      L   \n",
       "\n",
       "        debut   finalGame  \n",
       "0  2004-04-06  2015-08-23  \n",
       "1  1954-04-13  1976-10-03  \n",
       "2  1962-04-10  1971-09-26  \n",
       "3  1977-07-26  1990-10-03  \n",
       "4  2001-09-10  2006-04-13  "
      ]
     },
     "execution_count": 3,
     "metadata": {},
     "output_type": "execute_result"
    }
   ],
   "source": [
    "dM.head()"
   ]
  },
  {
   "cell_type": "code",
   "execution_count": 4,
   "metadata": {},
   "outputs": [
    {
     "data": {
      "text/plain": [
       "(19878, 9)"
      ]
     },
     "execution_count": 4,
     "metadata": {},
     "output_type": "execute_result"
    }
   ],
   "source": [
    "dM.shape"
   ]
  },
  {
   "cell_type": "code",
   "execution_count": 5,
   "metadata": {},
   "outputs": [
    {
     "data": {
      "text/plain": [
       "playerID      object\n",
       "birthYear    float64\n",
       "nameFirst     object\n",
       "nameLast      object\n",
       "nameGiven     object\n",
       "bats          object\n",
       "throws        object\n",
       "debut         object\n",
       "finalGame     object\n",
       "dtype: object"
      ]
     },
     "execution_count": 5,
     "metadata": {},
     "output_type": "execute_result"
    }
   ],
   "source": [
    "dM.dtypes"
   ]
  },
  {
   "cell_type": "markdown",
   "metadata": {},
   "source": [
    "We will do some data cleanup.  The dataset has a lot of early 19th century data that is missing values (not the datasets fault, just no one recorded the values at the time)."
   ]
  },
  {
   "cell_type": "code",
   "execution_count": 6,
   "metadata": {},
   "outputs": [],
   "source": [
    "#Lets Clean up names\n",
    "#Get Rid of Blank First and Given Names, records where we dont know when player started\n",
    "dM.dropna(subset=['nameFirst','debut'], inplace=True)\n",
    "dM['nameGiven'].fillna('Unknown',inplace = True)"
   ]
  },
  {
   "cell_type": "code",
   "execution_count": 7,
   "metadata": {},
   "outputs": [],
   "source": [
    "FullName=dM['nameFirst']+' '+dM['nameLast']\n",
    "dM.insert(4,'FullName',FullName)"
   ]
  },
  {
   "cell_type": "code",
   "execution_count": 8,
   "metadata": {},
   "outputs": [
    {
     "data": {
      "text/html": [
       "<div>\n",
       "<style scoped>\n",
       "    .dataframe tbody tr th:only-of-type {\n",
       "        vertical-align: middle;\n",
       "    }\n",
       "\n",
       "    .dataframe tbody tr th {\n",
       "        vertical-align: top;\n",
       "    }\n",
       "\n",
       "    .dataframe thead th {\n",
       "        text-align: right;\n",
       "    }\n",
       "</style>\n",
       "<table border=\"1\" class=\"dataframe\">\n",
       "  <thead>\n",
       "    <tr style=\"text-align: right;\">\n",
       "      <th></th>\n",
       "      <th>playerID</th>\n",
       "      <th>birthYear</th>\n",
       "      <th>nameFirst</th>\n",
       "      <th>nameLast</th>\n",
       "      <th>FullName</th>\n",
       "      <th>nameGiven</th>\n",
       "      <th>bats</th>\n",
       "      <th>throws</th>\n",
       "      <th>debut</th>\n",
       "      <th>finalGame</th>\n",
       "    </tr>\n",
       "  </thead>\n",
       "  <tbody>\n",
       "    <tr>\n",
       "      <th>0</th>\n",
       "      <td>aardsda01</td>\n",
       "      <td>1981.0</td>\n",
       "      <td>David</td>\n",
       "      <td>Aardsma</td>\n",
       "      <td>David Aardsma</td>\n",
       "      <td>David Allan</td>\n",
       "      <td>R</td>\n",
       "      <td>R</td>\n",
       "      <td>2004-04-06</td>\n",
       "      <td>2015-08-23</td>\n",
       "    </tr>\n",
       "    <tr>\n",
       "      <th>1</th>\n",
       "      <td>aaronha01</td>\n",
       "      <td>1934.0</td>\n",
       "      <td>Hank</td>\n",
       "      <td>Aaron</td>\n",
       "      <td>Hank Aaron</td>\n",
       "      <td>Henry Louis</td>\n",
       "      <td>R</td>\n",
       "      <td>R</td>\n",
       "      <td>1954-04-13</td>\n",
       "      <td>1976-10-03</td>\n",
       "    </tr>\n",
       "    <tr>\n",
       "      <th>2</th>\n",
       "      <td>aaronto01</td>\n",
       "      <td>1939.0</td>\n",
       "      <td>Tommie</td>\n",
       "      <td>Aaron</td>\n",
       "      <td>Tommie Aaron</td>\n",
       "      <td>Tommie Lee</td>\n",
       "      <td>R</td>\n",
       "      <td>R</td>\n",
       "      <td>1962-04-10</td>\n",
       "      <td>1971-09-26</td>\n",
       "    </tr>\n",
       "    <tr>\n",
       "      <th>3</th>\n",
       "      <td>aasedo01</td>\n",
       "      <td>1954.0</td>\n",
       "      <td>Don</td>\n",
       "      <td>Aase</td>\n",
       "      <td>Don Aase</td>\n",
       "      <td>Donald William</td>\n",
       "      <td>R</td>\n",
       "      <td>R</td>\n",
       "      <td>1977-07-26</td>\n",
       "      <td>1990-10-03</td>\n",
       "    </tr>\n",
       "    <tr>\n",
       "      <th>4</th>\n",
       "      <td>abadan01</td>\n",
       "      <td>1972.0</td>\n",
       "      <td>Andy</td>\n",
       "      <td>Abad</td>\n",
       "      <td>Andy Abad</td>\n",
       "      <td>Fausto Andres</td>\n",
       "      <td>L</td>\n",
       "      <td>L</td>\n",
       "      <td>2001-09-10</td>\n",
       "      <td>2006-04-13</td>\n",
       "    </tr>\n",
       "  </tbody>\n",
       "</table>\n",
       "</div>"
      ],
      "text/plain": [
       "    playerID  birthYear nameFirst nameLast       FullName       nameGiven  \\\n",
       "0  aardsda01     1981.0     David  Aardsma  David Aardsma     David Allan   \n",
       "1  aaronha01     1934.0      Hank    Aaron     Hank Aaron     Henry Louis   \n",
       "2  aaronto01     1939.0    Tommie    Aaron   Tommie Aaron      Tommie Lee   \n",
       "3   aasedo01     1954.0       Don     Aase       Don Aase  Donald William   \n",
       "4   abadan01     1972.0      Andy     Abad      Andy Abad   Fausto Andres   \n",
       "\n",
       "  bats throws       debut   finalGame  \n",
       "0    R      R  2004-04-06  2015-08-23  \n",
       "1    R      R  1954-04-13  1976-10-03  \n",
       "2    R      R  1962-04-10  1971-09-26  \n",
       "3    R      R  1977-07-26  1990-10-03  \n",
       "4    L      L  2001-09-10  2006-04-13  "
      ]
     },
     "execution_count": 8,
     "metadata": {},
     "output_type": "execute_result"
    }
   ],
   "source": [
    "dM.head()"
   ]
  },
  {
   "cell_type": "code",
   "execution_count": 9,
   "metadata": {},
   "outputs": [],
   "source": [
    "dM['birthYear'] = dM['birthYear'].astype('Int64')"
   ]
  },
  {
   "cell_type": "code",
   "execution_count": 10,
   "metadata": {},
   "outputs": [
    {
     "data": {
      "text/html": [
       "<div>\n",
       "<style scoped>\n",
       "    .dataframe tbody tr th:only-of-type {\n",
       "        vertical-align: middle;\n",
       "    }\n",
       "\n",
       "    .dataframe tbody tr th {\n",
       "        vertical-align: top;\n",
       "    }\n",
       "\n",
       "    .dataframe thead th {\n",
       "        text-align: right;\n",
       "    }\n",
       "</style>\n",
       "<table border=\"1\" class=\"dataframe\">\n",
       "  <thead>\n",
       "    <tr style=\"text-align: right;\">\n",
       "      <th></th>\n",
       "      <th>playerID</th>\n",
       "      <th>birthYear</th>\n",
       "      <th>nameFirst</th>\n",
       "      <th>nameLast</th>\n",
       "      <th>FullName</th>\n",
       "      <th>nameGiven</th>\n",
       "      <th>bats</th>\n",
       "      <th>throws</th>\n",
       "      <th>debut</th>\n",
       "      <th>finalGame</th>\n",
       "    </tr>\n",
       "  </thead>\n",
       "  <tbody>\n",
       "    <tr>\n",
       "      <th>0</th>\n",
       "      <td>aardsda01</td>\n",
       "      <td>1981</td>\n",
       "      <td>David</td>\n",
       "      <td>Aardsma</td>\n",
       "      <td>David Aardsma</td>\n",
       "      <td>David Allan</td>\n",
       "      <td>R</td>\n",
       "      <td>R</td>\n",
       "      <td>2004-04-06</td>\n",
       "      <td>2015-08-23</td>\n",
       "    </tr>\n",
       "    <tr>\n",
       "      <th>1</th>\n",
       "      <td>aaronha01</td>\n",
       "      <td>1934</td>\n",
       "      <td>Hank</td>\n",
       "      <td>Aaron</td>\n",
       "      <td>Hank Aaron</td>\n",
       "      <td>Henry Louis</td>\n",
       "      <td>R</td>\n",
       "      <td>R</td>\n",
       "      <td>1954-04-13</td>\n",
       "      <td>1976-10-03</td>\n",
       "    </tr>\n",
       "    <tr>\n",
       "      <th>2</th>\n",
       "      <td>aaronto01</td>\n",
       "      <td>1939</td>\n",
       "      <td>Tommie</td>\n",
       "      <td>Aaron</td>\n",
       "      <td>Tommie Aaron</td>\n",
       "      <td>Tommie Lee</td>\n",
       "      <td>R</td>\n",
       "      <td>R</td>\n",
       "      <td>1962-04-10</td>\n",
       "      <td>1971-09-26</td>\n",
       "    </tr>\n",
       "    <tr>\n",
       "      <th>3</th>\n",
       "      <td>aasedo01</td>\n",
       "      <td>1954</td>\n",
       "      <td>Don</td>\n",
       "      <td>Aase</td>\n",
       "      <td>Don Aase</td>\n",
       "      <td>Donald William</td>\n",
       "      <td>R</td>\n",
       "      <td>R</td>\n",
       "      <td>1977-07-26</td>\n",
       "      <td>1990-10-03</td>\n",
       "    </tr>\n",
       "    <tr>\n",
       "      <th>4</th>\n",
       "      <td>abadan01</td>\n",
       "      <td>1972</td>\n",
       "      <td>Andy</td>\n",
       "      <td>Abad</td>\n",
       "      <td>Andy Abad</td>\n",
       "      <td>Fausto Andres</td>\n",
       "      <td>L</td>\n",
       "      <td>L</td>\n",
       "      <td>2001-09-10</td>\n",
       "      <td>2006-04-13</td>\n",
       "    </tr>\n",
       "  </tbody>\n",
       "</table>\n",
       "</div>"
      ],
      "text/plain": [
       "    playerID  birthYear nameFirst nameLast       FullName       nameGiven  \\\n",
       "0  aardsda01       1981     David  Aardsma  David Aardsma     David Allan   \n",
       "1  aaronha01       1934      Hank    Aaron     Hank Aaron     Henry Louis   \n",
       "2  aaronto01       1939    Tommie    Aaron   Tommie Aaron      Tommie Lee   \n",
       "3   aasedo01       1954       Don     Aase       Don Aase  Donald William   \n",
       "4   abadan01       1972      Andy     Abad      Andy Abad   Fausto Andres   \n",
       "\n",
       "  bats throws       debut   finalGame  \n",
       "0    R      R  2004-04-06  2015-08-23  \n",
       "1    R      R  1954-04-13  1976-10-03  \n",
       "2    R      R  1962-04-10  1971-09-26  \n",
       "3    R      R  1977-07-26  1990-10-03  \n",
       "4    L      L  2001-09-10  2006-04-13  "
      ]
     },
     "execution_count": 10,
     "metadata": {},
     "output_type": "execute_result"
    }
   ],
   "source": [
    "dM.head()"
   ]
  },
  {
   "cell_type": "markdown",
   "metadata": {},
   "source": [
    "Anticipating that in future analysis we may want to do some analysis where we compare players on \"career years\" rather than \"calendar years\" we create a dictionary of the years players debuted for use in the next table."
   ]
  },
  {
   "cell_type": "code",
   "execution_count": 11,
   "metadata": {},
   "outputs": [],
   "source": [
    "TempDict=dM.groupby('playerID')['debut'].apply(list).to_dict()\n",
    "DebutDict={}\n",
    "for key in TempDict:\n",
    "    date=TempDict[key]\n",
    "    y=date[0]\n",
    "    if isinstance(y, str):\n",
    "        y=y[0:4]\n",
    "        DebutDict[key] =int(y)"
   ]
  },
  {
   "cell_type": "markdown",
   "metadata": {},
   "source": [
    "OK, the Master table of player info is done, lets import the batting table and clean it up"
   ]
  },
  {
   "cell_type": "code",
   "execution_count": 12,
   "metadata": {},
   "outputs": [],
   "source": [
    "dB=pd.read_csv('./BaseballData/Batting.csv')"
   ]
  },
  {
   "cell_type": "code",
   "execution_count": 13,
   "metadata": {},
   "outputs": [
    {
     "data": {
      "text/html": [
       "<div>\n",
       "<style scoped>\n",
       "    .dataframe tbody tr th:only-of-type {\n",
       "        vertical-align: middle;\n",
       "    }\n",
       "\n",
       "    .dataframe tbody tr th {\n",
       "        vertical-align: top;\n",
       "    }\n",
       "\n",
       "    .dataframe thead th {\n",
       "        text-align: right;\n",
       "    }\n",
       "</style>\n",
       "<table border=\"1\" class=\"dataframe\">\n",
       "  <thead>\n",
       "    <tr style=\"text-align: right;\">\n",
       "      <th></th>\n",
       "      <th>playerID</th>\n",
       "      <th>yearID</th>\n",
       "      <th>stint</th>\n",
       "      <th>teamID</th>\n",
       "      <th>lgID</th>\n",
       "      <th>G</th>\n",
       "      <th>AB</th>\n",
       "      <th>R</th>\n",
       "      <th>H</th>\n",
       "      <th>2B</th>\n",
       "      <th>3B</th>\n",
       "      <th>HR</th>\n",
       "      <th>RBI</th>\n",
       "      <th>SB</th>\n",
       "      <th>CS</th>\n",
       "      <th>BB</th>\n",
       "      <th>SO</th>\n",
       "      <th>IBB</th>\n",
       "      <th>HBP</th>\n",
       "      <th>SH</th>\n",
       "      <th>SF</th>\n",
       "      <th>GIDP</th>\n",
       "    </tr>\n",
       "  </thead>\n",
       "  <tbody>\n",
       "    <tr>\n",
       "      <th>0</th>\n",
       "      <td>abercda01</td>\n",
       "      <td>1871</td>\n",
       "      <td>1</td>\n",
       "      <td>TRO</td>\n",
       "      <td>NaN</td>\n",
       "      <td>1</td>\n",
       "      <td>4</td>\n",
       "      <td>0</td>\n",
       "      <td>0</td>\n",
       "      <td>0</td>\n",
       "      <td>0</td>\n",
       "      <td>0</td>\n",
       "      <td>0.0</td>\n",
       "      <td>0.0</td>\n",
       "      <td>0.0</td>\n",
       "      <td>0</td>\n",
       "      <td>0.0</td>\n",
       "      <td>NaN</td>\n",
       "      <td>NaN</td>\n",
       "      <td>NaN</td>\n",
       "      <td>NaN</td>\n",
       "      <td>0.0</td>\n",
       "    </tr>\n",
       "    <tr>\n",
       "      <th>1</th>\n",
       "      <td>addybo01</td>\n",
       "      <td>1871</td>\n",
       "      <td>1</td>\n",
       "      <td>RC1</td>\n",
       "      <td>NaN</td>\n",
       "      <td>25</td>\n",
       "      <td>118</td>\n",
       "      <td>30</td>\n",
       "      <td>32</td>\n",
       "      <td>6</td>\n",
       "      <td>0</td>\n",
       "      <td>0</td>\n",
       "      <td>13.0</td>\n",
       "      <td>8.0</td>\n",
       "      <td>1.0</td>\n",
       "      <td>4</td>\n",
       "      <td>0.0</td>\n",
       "      <td>NaN</td>\n",
       "      <td>NaN</td>\n",
       "      <td>NaN</td>\n",
       "      <td>NaN</td>\n",
       "      <td>0.0</td>\n",
       "    </tr>\n",
       "    <tr>\n",
       "      <th>2</th>\n",
       "      <td>allisar01</td>\n",
       "      <td>1871</td>\n",
       "      <td>1</td>\n",
       "      <td>CL1</td>\n",
       "      <td>NaN</td>\n",
       "      <td>29</td>\n",
       "      <td>137</td>\n",
       "      <td>28</td>\n",
       "      <td>40</td>\n",
       "      <td>4</td>\n",
       "      <td>5</td>\n",
       "      <td>0</td>\n",
       "      <td>19.0</td>\n",
       "      <td>3.0</td>\n",
       "      <td>1.0</td>\n",
       "      <td>2</td>\n",
       "      <td>5.0</td>\n",
       "      <td>NaN</td>\n",
       "      <td>NaN</td>\n",
       "      <td>NaN</td>\n",
       "      <td>NaN</td>\n",
       "      <td>1.0</td>\n",
       "    </tr>\n",
       "    <tr>\n",
       "      <th>3</th>\n",
       "      <td>allisdo01</td>\n",
       "      <td>1871</td>\n",
       "      <td>1</td>\n",
       "      <td>WS3</td>\n",
       "      <td>NaN</td>\n",
       "      <td>27</td>\n",
       "      <td>133</td>\n",
       "      <td>28</td>\n",
       "      <td>44</td>\n",
       "      <td>10</td>\n",
       "      <td>2</td>\n",
       "      <td>2</td>\n",
       "      <td>27.0</td>\n",
       "      <td>1.0</td>\n",
       "      <td>1.0</td>\n",
       "      <td>0</td>\n",
       "      <td>2.0</td>\n",
       "      <td>NaN</td>\n",
       "      <td>NaN</td>\n",
       "      <td>NaN</td>\n",
       "      <td>NaN</td>\n",
       "      <td>0.0</td>\n",
       "    </tr>\n",
       "    <tr>\n",
       "      <th>4</th>\n",
       "      <td>ansonca01</td>\n",
       "      <td>1871</td>\n",
       "      <td>1</td>\n",
       "      <td>RC1</td>\n",
       "      <td>NaN</td>\n",
       "      <td>25</td>\n",
       "      <td>120</td>\n",
       "      <td>29</td>\n",
       "      <td>39</td>\n",
       "      <td>11</td>\n",
       "      <td>3</td>\n",
       "      <td>0</td>\n",
       "      <td>16.0</td>\n",
       "      <td>6.0</td>\n",
       "      <td>2.0</td>\n",
       "      <td>2</td>\n",
       "      <td>1.0</td>\n",
       "      <td>NaN</td>\n",
       "      <td>NaN</td>\n",
       "      <td>NaN</td>\n",
       "      <td>NaN</td>\n",
       "      <td>0.0</td>\n",
       "    </tr>\n",
       "  </tbody>\n",
       "</table>\n",
       "</div>"
      ],
      "text/plain": [
       "    playerID  yearID  stint teamID lgID   G   AB   R   H  2B  3B  HR   RBI  \\\n",
       "0  abercda01    1871      1    TRO  NaN   1    4   0   0   0   0   0   0.0   \n",
       "1   addybo01    1871      1    RC1  NaN  25  118  30  32   6   0   0  13.0   \n",
       "2  allisar01    1871      1    CL1  NaN  29  137  28  40   4   5   0  19.0   \n",
       "3  allisdo01    1871      1    WS3  NaN  27  133  28  44  10   2   2  27.0   \n",
       "4  ansonca01    1871      1    RC1  NaN  25  120  29  39  11   3   0  16.0   \n",
       "\n",
       "    SB   CS  BB   SO  IBB  HBP  SH  SF  GIDP  \n",
       "0  0.0  0.0   0  0.0  NaN  NaN NaN NaN   0.0  \n",
       "1  8.0  1.0   4  0.0  NaN  NaN NaN NaN   0.0  \n",
       "2  3.0  1.0   2  5.0  NaN  NaN NaN NaN   1.0  \n",
       "3  1.0  1.0   0  2.0  NaN  NaN NaN NaN   0.0  \n",
       "4  6.0  2.0   2  1.0  NaN  NaN NaN NaN   0.0  "
      ]
     },
     "execution_count": 13,
     "metadata": {},
     "output_type": "execute_result"
    }
   ],
   "source": [
    "dB.head()"
   ]
  },
  {
   "cell_type": "code",
   "execution_count": 14,
   "metadata": {},
   "outputs": [
    {
     "data": {
      "text/plain": [
       "(107429, 22)"
      ]
     },
     "execution_count": 14,
     "metadata": {},
     "output_type": "execute_result"
    }
   ],
   "source": [
    "dB.shape"
   ]
  },
  {
   "cell_type": "code",
   "execution_count": 15,
   "metadata": {},
   "outputs": [
    {
     "data": {
      "text/plain": [
       "array([nan, 'NL', 'AA', 'UA', 'PL', 'AL', 'FL'], dtype=object)"
      ]
     },
     "execution_count": 15,
     "metadata": {},
     "output_type": "execute_result"
    }
   ],
   "source": [
    "dB.lgID.unique()"
   ]
  },
  {
   "cell_type": "code",
   "execution_count": 16,
   "metadata": {},
   "outputs": [
    {
     "data": {
      "text/plain": [
       "array([nan, 'NL', 'AL'], dtype=object)"
      ]
     },
     "execution_count": 16,
     "metadata": {},
     "output_type": "execute_result"
    }
   ],
   "source": [
    "# Cull down to just NL and Al Leagues\n",
    "NonModernLeagueNames =['AA', 'UA', 'PL','FL','nan']\n",
    "indexNames = dB[dB['lgID'].isin(NonModernLeagueNames)].index\n",
    "dB.drop(indexNames , inplace=True)\n",
    "dB.lgID.unique()"
   ]
  },
  {
   "cell_type": "markdown",
   "metadata": {},
   "source": [
    "create a Key column"
   ]
  },
  {
   "cell_type": "code",
   "execution_count": 17,
   "metadata": {},
   "outputs": [
    {
     "data": {
      "text/html": [
       "<div>\n",
       "<style scoped>\n",
       "    .dataframe tbody tr th:only-of-type {\n",
       "        vertical-align: middle;\n",
       "    }\n",
       "\n",
       "    .dataframe tbody tr th {\n",
       "        vertical-align: top;\n",
       "    }\n",
       "\n",
       "    .dataframe thead th {\n",
       "        text-align: right;\n",
       "    }\n",
       "</style>\n",
       "<table border=\"1\" class=\"dataframe\">\n",
       "  <thead>\n",
       "    <tr style=\"text-align: right;\">\n",
       "      <th></th>\n",
       "      <th>pkey</th>\n",
       "      <th>playerID</th>\n",
       "      <th>yearID</th>\n",
       "      <th>stint</th>\n",
       "      <th>teamID</th>\n",
       "      <th>lgID</th>\n",
       "      <th>G</th>\n",
       "      <th>AB</th>\n",
       "      <th>R</th>\n",
       "      <th>H</th>\n",
       "      <th>2B</th>\n",
       "      <th>3B</th>\n",
       "      <th>HR</th>\n",
       "      <th>RBI</th>\n",
       "      <th>SB</th>\n",
       "      <th>CS</th>\n",
       "      <th>BB</th>\n",
       "      <th>SO</th>\n",
       "      <th>IBB</th>\n",
       "      <th>HBP</th>\n",
       "      <th>SH</th>\n",
       "      <th>SF</th>\n",
       "      <th>GIDP</th>\n",
       "    </tr>\n",
       "  </thead>\n",
       "  <tbody>\n",
       "    <tr>\n",
       "      <th>0</th>\n",
       "      <td>1</td>\n",
       "      <td>abercda01</td>\n",
       "      <td>1871</td>\n",
       "      <td>1</td>\n",
       "      <td>TRO</td>\n",
       "      <td>NaN</td>\n",
       "      <td>1</td>\n",
       "      <td>4</td>\n",
       "      <td>0</td>\n",
       "      <td>0</td>\n",
       "      <td>0</td>\n",
       "      <td>0</td>\n",
       "      <td>0</td>\n",
       "      <td>0.0</td>\n",
       "      <td>0.0</td>\n",
       "      <td>0.0</td>\n",
       "      <td>0</td>\n",
       "      <td>0.0</td>\n",
       "      <td>NaN</td>\n",
       "      <td>NaN</td>\n",
       "      <td>NaN</td>\n",
       "      <td>NaN</td>\n",
       "      <td>0.0</td>\n",
       "    </tr>\n",
       "    <tr>\n",
       "      <th>1</th>\n",
       "      <td>2</td>\n",
       "      <td>addybo01</td>\n",
       "      <td>1871</td>\n",
       "      <td>1</td>\n",
       "      <td>RC1</td>\n",
       "      <td>NaN</td>\n",
       "      <td>25</td>\n",
       "      <td>118</td>\n",
       "      <td>30</td>\n",
       "      <td>32</td>\n",
       "      <td>6</td>\n",
       "      <td>0</td>\n",
       "      <td>0</td>\n",
       "      <td>13.0</td>\n",
       "      <td>8.0</td>\n",
       "      <td>1.0</td>\n",
       "      <td>4</td>\n",
       "      <td>0.0</td>\n",
       "      <td>NaN</td>\n",
       "      <td>NaN</td>\n",
       "      <td>NaN</td>\n",
       "      <td>NaN</td>\n",
       "      <td>0.0</td>\n",
       "    </tr>\n",
       "    <tr>\n",
       "      <th>2</th>\n",
       "      <td>3</td>\n",
       "      <td>allisar01</td>\n",
       "      <td>1871</td>\n",
       "      <td>1</td>\n",
       "      <td>CL1</td>\n",
       "      <td>NaN</td>\n",
       "      <td>29</td>\n",
       "      <td>137</td>\n",
       "      <td>28</td>\n",
       "      <td>40</td>\n",
       "      <td>4</td>\n",
       "      <td>5</td>\n",
       "      <td>0</td>\n",
       "      <td>19.0</td>\n",
       "      <td>3.0</td>\n",
       "      <td>1.0</td>\n",
       "      <td>2</td>\n",
       "      <td>5.0</td>\n",
       "      <td>NaN</td>\n",
       "      <td>NaN</td>\n",
       "      <td>NaN</td>\n",
       "      <td>NaN</td>\n",
       "      <td>1.0</td>\n",
       "    </tr>\n",
       "    <tr>\n",
       "      <th>3</th>\n",
       "      <td>4</td>\n",
       "      <td>allisdo01</td>\n",
       "      <td>1871</td>\n",
       "      <td>1</td>\n",
       "      <td>WS3</td>\n",
       "      <td>NaN</td>\n",
       "      <td>27</td>\n",
       "      <td>133</td>\n",
       "      <td>28</td>\n",
       "      <td>44</td>\n",
       "      <td>10</td>\n",
       "      <td>2</td>\n",
       "      <td>2</td>\n",
       "      <td>27.0</td>\n",
       "      <td>1.0</td>\n",
       "      <td>1.0</td>\n",
       "      <td>0</td>\n",
       "      <td>2.0</td>\n",
       "      <td>NaN</td>\n",
       "      <td>NaN</td>\n",
       "      <td>NaN</td>\n",
       "      <td>NaN</td>\n",
       "      <td>0.0</td>\n",
       "    </tr>\n",
       "    <tr>\n",
       "      <th>4</th>\n",
       "      <td>5</td>\n",
       "      <td>ansonca01</td>\n",
       "      <td>1871</td>\n",
       "      <td>1</td>\n",
       "      <td>RC1</td>\n",
       "      <td>NaN</td>\n",
       "      <td>25</td>\n",
       "      <td>120</td>\n",
       "      <td>29</td>\n",
       "      <td>39</td>\n",
       "      <td>11</td>\n",
       "      <td>3</td>\n",
       "      <td>0</td>\n",
       "      <td>16.0</td>\n",
       "      <td>6.0</td>\n",
       "      <td>2.0</td>\n",
       "      <td>2</td>\n",
       "      <td>1.0</td>\n",
       "      <td>NaN</td>\n",
       "      <td>NaN</td>\n",
       "      <td>NaN</td>\n",
       "      <td>NaN</td>\n",
       "      <td>0.0</td>\n",
       "    </tr>\n",
       "  </tbody>\n",
       "</table>\n",
       "</div>"
      ],
      "text/plain": [
       "   pkey   playerID  yearID  stint teamID lgID   G   AB   R   H  2B  3B  HR  \\\n",
       "0     1  abercda01    1871      1    TRO  NaN   1    4   0   0   0   0   0   \n",
       "1     2   addybo01    1871      1    RC1  NaN  25  118  30  32   6   0   0   \n",
       "2     3  allisar01    1871      1    CL1  NaN  29  137  28  40   4   5   0   \n",
       "3     4  allisdo01    1871      1    WS3  NaN  27  133  28  44  10   2   2   \n",
       "4     5  ansonca01    1871      1    RC1  NaN  25  120  29  39  11   3   0   \n",
       "\n",
       "    RBI   SB   CS  BB   SO  IBB  HBP  SH  SF  GIDP  \n",
       "0   0.0  0.0  0.0   0  0.0  NaN  NaN NaN NaN   0.0  \n",
       "1  13.0  8.0  1.0   4  0.0  NaN  NaN NaN NaN   0.0  \n",
       "2  19.0  3.0  1.0   2  5.0  NaN  NaN NaN NaN   1.0  \n",
       "3  27.0  1.0  1.0   0  2.0  NaN  NaN NaN NaN   0.0  \n",
       "4  16.0  6.0  2.0   2  1.0  NaN  NaN NaN NaN   0.0  "
      ]
     },
     "execution_count": 17,
     "metadata": {},
     "output_type": "execute_result"
    }
   ],
   "source": [
    "dB.insert(loc=0, column='pkey', value=1+np.arange(len(dB)))\n",
    "dB.set_index('pkey')\n",
    "dB.head()"
   ]
  },
  {
   "cell_type": "code",
   "execution_count": 18,
   "metadata": {},
   "outputs": [
    {
     "data": {
      "text/plain": [
       "pkey          int32\n",
       "playerID     object\n",
       "yearID        int64\n",
       "stint         int64\n",
       "teamID       object\n",
       "lgID         object\n",
       "G             int64\n",
       "AB            int64\n",
       "R             int64\n",
       "H             int64\n",
       "2B            int64\n",
       "3B            int64\n",
       "HR            int64\n",
       "RBI         float64\n",
       "SB          float64\n",
       "CS          float64\n",
       "BB            int64\n",
       "SO          float64\n",
       "IBB         float64\n",
       "HBP         float64\n",
       "SH          float64\n",
       "SF          float64\n",
       "GIDP        float64\n",
       "dtype: object"
      ]
     },
     "execution_count": 18,
     "metadata": {},
     "output_type": "execute_result"
    }
   ],
   "source": [
    "dB.dtypes"
   ]
  },
  {
   "cell_type": "code",
   "execution_count": 19,
   "metadata": {},
   "outputs": [],
   "source": [
    "convert_dict = {\n",
    "                'yearID':str, \n",
    "                'lgID':str,\n",
    "                'RBI':'Int64',\n",
    "                'SB':'Int64',\n",
    "                'CS':'Int64',\n",
    "                'SO':'Int64',\n",
    "                'IBB':'Int64',\n",
    "                'HBP':'Int64',\n",
    "                'SH':'Int64',\n",
    "                'SF':'Int64',\n",
    "                'GIDP':'Int64'\n",
    "               } \n",
    "  \n",
    "dB = dB.astype(convert_dict) "
   ]
  },
  {
   "cell_type": "markdown",
   "metadata": {},
   "source": [
    "Team ID is deceptive, it is not as \"human readable\" as you would think, lets replace with franchise names (but note that these will be the current franchise name, i.e. Babe Ruth's Boston Braves will show that the team is currently the Atlanta Braves)"
   ]
  },
  {
   "cell_type": "markdown",
   "metadata": {},
   "source": [
    "Get Franchises and create a dictionary of Franchise ID to name "
   ]
  },
  {
   "cell_type": "code",
   "execution_count": 20,
   "metadata": {},
   "outputs": [],
   "source": [
    "dF=pd.read_csv('./BaseballData/TeamsFranchises.csv')"
   ]
  },
  {
   "cell_type": "code",
   "execution_count": 21,
   "metadata": {},
   "outputs": [
    {
     "data": {
      "text/html": [
       "<div>\n",
       "<style scoped>\n",
       "    .dataframe tbody tr th:only-of-type {\n",
       "        vertical-align: middle;\n",
       "    }\n",
       "\n",
       "    .dataframe tbody tr th {\n",
       "        vertical-align: top;\n",
       "    }\n",
       "\n",
       "    .dataframe thead th {\n",
       "        text-align: right;\n",
       "    }\n",
       "</style>\n",
       "<table border=\"1\" class=\"dataframe\">\n",
       "  <thead>\n",
       "    <tr style=\"text-align: right;\">\n",
       "      <th></th>\n",
       "      <th>franchID</th>\n",
       "      <th>franchName</th>\n",
       "      <th>active</th>\n",
       "      <th>NAassoc</th>\n",
       "    </tr>\n",
       "  </thead>\n",
       "  <tbody>\n",
       "    <tr>\n",
       "      <th>0</th>\n",
       "      <td>ALT</td>\n",
       "      <td>Altoona Mountain City</td>\n",
       "      <td>N</td>\n",
       "      <td>NaN</td>\n",
       "    </tr>\n",
       "    <tr>\n",
       "      <th>1</th>\n",
       "      <td>ANA</td>\n",
       "      <td>Los Angeles Angels of Anaheim</td>\n",
       "      <td>Y</td>\n",
       "      <td>NaN</td>\n",
       "    </tr>\n",
       "    <tr>\n",
       "      <th>2</th>\n",
       "      <td>ARI</td>\n",
       "      <td>Arizona Diamondbacks</td>\n",
       "      <td>Y</td>\n",
       "      <td>NaN</td>\n",
       "    </tr>\n",
       "    <tr>\n",
       "      <th>3</th>\n",
       "      <td>ATH</td>\n",
       "      <td>Philadelphia Athletics</td>\n",
       "      <td>N</td>\n",
       "      <td>PNA</td>\n",
       "    </tr>\n",
       "    <tr>\n",
       "      <th>4</th>\n",
       "      <td>ATL</td>\n",
       "      <td>Atlanta Braves</td>\n",
       "      <td>Y</td>\n",
       "      <td>BNA</td>\n",
       "    </tr>\n",
       "  </tbody>\n",
       "</table>\n",
       "</div>"
      ],
      "text/plain": [
       "  franchID                     franchName active NAassoc\n",
       "0      ALT          Altoona Mountain City      N     NaN\n",
       "1      ANA  Los Angeles Angels of Anaheim      Y     NaN\n",
       "2      ARI           Arizona Diamondbacks      Y     NaN\n",
       "3      ATH         Philadelphia Athletics      N     PNA\n",
       "4      ATL                 Atlanta Braves      Y     BNA"
      ]
     },
     "execution_count": 21,
     "metadata": {},
     "output_type": "execute_result"
    }
   ],
   "source": [
    "dF.head()"
   ]
  },
  {
   "cell_type": "code",
   "execution_count": 22,
   "metadata": {},
   "outputs": [],
   "source": [
    "dictFranchiseToName=pd.Series(dF.franchName.values,index=dF.franchID).to_dict()"
   ]
  },
  {
   "cell_type": "markdown",
   "metadata": {},
   "source": [
    "Create a dictionary of teamid  franchid"
   ]
  },
  {
   "cell_type": "code",
   "execution_count": 23,
   "metadata": {},
   "outputs": [],
   "source": [
    "dT=pd.read_csv('./BaseballData/Teams.csv')"
   ]
  },
  {
   "cell_type": "code",
   "execution_count": 24,
   "metadata": {},
   "outputs": [
    {
     "data": {
      "text/html": [
       "<div>\n",
       "<style scoped>\n",
       "    .dataframe tbody tr th:only-of-type {\n",
       "        vertical-align: middle;\n",
       "    }\n",
       "\n",
       "    .dataframe tbody tr th {\n",
       "        vertical-align: top;\n",
       "    }\n",
       "\n",
       "    .dataframe thead th {\n",
       "        text-align: right;\n",
       "    }\n",
       "</style>\n",
       "<table border=\"1\" class=\"dataframe\">\n",
       "  <thead>\n",
       "    <tr style=\"text-align: right;\">\n",
       "      <th></th>\n",
       "      <th>yearID</th>\n",
       "      <th>lgID</th>\n",
       "      <th>teamID</th>\n",
       "      <th>franchID</th>\n",
       "      <th>divID</th>\n",
       "      <th>Rank</th>\n",
       "      <th>G</th>\n",
       "      <th>Ghome</th>\n",
       "      <th>W</th>\n",
       "      <th>L</th>\n",
       "      <th>DivWin</th>\n",
       "      <th>WCWin</th>\n",
       "      <th>LgWin</th>\n",
       "      <th>WSWin</th>\n",
       "      <th>R</th>\n",
       "      <th>AB</th>\n",
       "      <th>H</th>\n",
       "      <th>2B</th>\n",
       "      <th>3B</th>\n",
       "      <th>HR</th>\n",
       "      <th>BB</th>\n",
       "      <th>SO</th>\n",
       "      <th>SB</th>\n",
       "      <th>CS</th>\n",
       "      <th>HBP</th>\n",
       "      <th>SF</th>\n",
       "      <th>RA</th>\n",
       "      <th>ER</th>\n",
       "      <th>ERA</th>\n",
       "      <th>CG</th>\n",
       "      <th>SHO</th>\n",
       "      <th>SV</th>\n",
       "      <th>IPouts</th>\n",
       "      <th>HA</th>\n",
       "      <th>HRA</th>\n",
       "      <th>BBA</th>\n",
       "      <th>SOA</th>\n",
       "      <th>E</th>\n",
       "      <th>DP</th>\n",
       "      <th>FP</th>\n",
       "      <th>name</th>\n",
       "      <th>park</th>\n",
       "      <th>attendance</th>\n",
       "      <th>BPF</th>\n",
       "      <th>PPF</th>\n",
       "      <th>teamIDBR</th>\n",
       "      <th>teamIDlahman45</th>\n",
       "      <th>teamIDretro</th>\n",
       "    </tr>\n",
       "  </thead>\n",
       "  <tbody>\n",
       "    <tr>\n",
       "      <th>0</th>\n",
       "      <td>1871</td>\n",
       "      <td>NaN</td>\n",
       "      <td>BS1</td>\n",
       "      <td>BNA</td>\n",
       "      <td>NaN</td>\n",
       "      <td>3</td>\n",
       "      <td>31</td>\n",
       "      <td>NaN</td>\n",
       "      <td>20</td>\n",
       "      <td>10</td>\n",
       "      <td>NaN</td>\n",
       "      <td>NaN</td>\n",
       "      <td>N</td>\n",
       "      <td>NaN</td>\n",
       "      <td>401</td>\n",
       "      <td>1372</td>\n",
       "      <td>426</td>\n",
       "      <td>70</td>\n",
       "      <td>37</td>\n",
       "      <td>3</td>\n",
       "      <td>60.0</td>\n",
       "      <td>19.0</td>\n",
       "      <td>73.0</td>\n",
       "      <td>16.0</td>\n",
       "      <td>NaN</td>\n",
       "      <td>NaN</td>\n",
       "      <td>303</td>\n",
       "      <td>109</td>\n",
       "      <td>3.55</td>\n",
       "      <td>22</td>\n",
       "      <td>1</td>\n",
       "      <td>3</td>\n",
       "      <td>828</td>\n",
       "      <td>367</td>\n",
       "      <td>2</td>\n",
       "      <td>42</td>\n",
       "      <td>23</td>\n",
       "      <td>243</td>\n",
       "      <td>24</td>\n",
       "      <td>0.834</td>\n",
       "      <td>Boston Red Stockings</td>\n",
       "      <td>South End Grounds I</td>\n",
       "      <td>NaN</td>\n",
       "      <td>103</td>\n",
       "      <td>98</td>\n",
       "      <td>BOS</td>\n",
       "      <td>BS1</td>\n",
       "      <td>BS1</td>\n",
       "    </tr>\n",
       "    <tr>\n",
       "      <th>1</th>\n",
       "      <td>1871</td>\n",
       "      <td>NaN</td>\n",
       "      <td>CH1</td>\n",
       "      <td>CNA</td>\n",
       "      <td>NaN</td>\n",
       "      <td>2</td>\n",
       "      <td>28</td>\n",
       "      <td>NaN</td>\n",
       "      <td>19</td>\n",
       "      <td>9</td>\n",
       "      <td>NaN</td>\n",
       "      <td>NaN</td>\n",
       "      <td>N</td>\n",
       "      <td>NaN</td>\n",
       "      <td>302</td>\n",
       "      <td>1196</td>\n",
       "      <td>323</td>\n",
       "      <td>52</td>\n",
       "      <td>21</td>\n",
       "      <td>10</td>\n",
       "      <td>60.0</td>\n",
       "      <td>22.0</td>\n",
       "      <td>69.0</td>\n",
       "      <td>21.0</td>\n",
       "      <td>NaN</td>\n",
       "      <td>NaN</td>\n",
       "      <td>241</td>\n",
       "      <td>77</td>\n",
       "      <td>2.76</td>\n",
       "      <td>25</td>\n",
       "      <td>0</td>\n",
       "      <td>1</td>\n",
       "      <td>753</td>\n",
       "      <td>308</td>\n",
       "      <td>6</td>\n",
       "      <td>28</td>\n",
       "      <td>22</td>\n",
       "      <td>229</td>\n",
       "      <td>16</td>\n",
       "      <td>0.829</td>\n",
       "      <td>Chicago White Stockings</td>\n",
       "      <td>Union Base-Ball Grounds</td>\n",
       "      <td>NaN</td>\n",
       "      <td>104</td>\n",
       "      <td>102</td>\n",
       "      <td>CHI</td>\n",
       "      <td>CH1</td>\n",
       "      <td>CH1</td>\n",
       "    </tr>\n",
       "    <tr>\n",
       "      <th>2</th>\n",
       "      <td>1871</td>\n",
       "      <td>NaN</td>\n",
       "      <td>CL1</td>\n",
       "      <td>CFC</td>\n",
       "      <td>NaN</td>\n",
       "      <td>8</td>\n",
       "      <td>29</td>\n",
       "      <td>NaN</td>\n",
       "      <td>10</td>\n",
       "      <td>19</td>\n",
       "      <td>NaN</td>\n",
       "      <td>NaN</td>\n",
       "      <td>N</td>\n",
       "      <td>NaN</td>\n",
       "      <td>249</td>\n",
       "      <td>1186</td>\n",
       "      <td>328</td>\n",
       "      <td>35</td>\n",
       "      <td>40</td>\n",
       "      <td>7</td>\n",
       "      <td>26.0</td>\n",
       "      <td>25.0</td>\n",
       "      <td>18.0</td>\n",
       "      <td>8.0</td>\n",
       "      <td>NaN</td>\n",
       "      <td>NaN</td>\n",
       "      <td>341</td>\n",
       "      <td>116</td>\n",
       "      <td>4.11</td>\n",
       "      <td>23</td>\n",
       "      <td>0</td>\n",
       "      <td>0</td>\n",
       "      <td>762</td>\n",
       "      <td>346</td>\n",
       "      <td>13</td>\n",
       "      <td>53</td>\n",
       "      <td>34</td>\n",
       "      <td>234</td>\n",
       "      <td>15</td>\n",
       "      <td>0.818</td>\n",
       "      <td>Cleveland Forest Citys</td>\n",
       "      <td>National Association Grounds</td>\n",
       "      <td>NaN</td>\n",
       "      <td>96</td>\n",
       "      <td>100</td>\n",
       "      <td>CLE</td>\n",
       "      <td>CL1</td>\n",
       "      <td>CL1</td>\n",
       "    </tr>\n",
       "    <tr>\n",
       "      <th>3</th>\n",
       "      <td>1871</td>\n",
       "      <td>NaN</td>\n",
       "      <td>FW1</td>\n",
       "      <td>KEK</td>\n",
       "      <td>NaN</td>\n",
       "      <td>7</td>\n",
       "      <td>19</td>\n",
       "      <td>NaN</td>\n",
       "      <td>7</td>\n",
       "      <td>12</td>\n",
       "      <td>NaN</td>\n",
       "      <td>NaN</td>\n",
       "      <td>N</td>\n",
       "      <td>NaN</td>\n",
       "      <td>137</td>\n",
       "      <td>746</td>\n",
       "      <td>178</td>\n",
       "      <td>19</td>\n",
       "      <td>8</td>\n",
       "      <td>2</td>\n",
       "      <td>33.0</td>\n",
       "      <td>9.0</td>\n",
       "      <td>16.0</td>\n",
       "      <td>4.0</td>\n",
       "      <td>NaN</td>\n",
       "      <td>NaN</td>\n",
       "      <td>243</td>\n",
       "      <td>97</td>\n",
       "      <td>5.17</td>\n",
       "      <td>19</td>\n",
       "      <td>1</td>\n",
       "      <td>0</td>\n",
       "      <td>507</td>\n",
       "      <td>261</td>\n",
       "      <td>5</td>\n",
       "      <td>21</td>\n",
       "      <td>17</td>\n",
       "      <td>163</td>\n",
       "      <td>8</td>\n",
       "      <td>0.803</td>\n",
       "      <td>Fort Wayne Kekiongas</td>\n",
       "      <td>Hamilton Field</td>\n",
       "      <td>NaN</td>\n",
       "      <td>101</td>\n",
       "      <td>107</td>\n",
       "      <td>KEK</td>\n",
       "      <td>FW1</td>\n",
       "      <td>FW1</td>\n",
       "    </tr>\n",
       "    <tr>\n",
       "      <th>4</th>\n",
       "      <td>1871</td>\n",
       "      <td>NaN</td>\n",
       "      <td>NY2</td>\n",
       "      <td>NNA</td>\n",
       "      <td>NaN</td>\n",
       "      <td>5</td>\n",
       "      <td>33</td>\n",
       "      <td>NaN</td>\n",
       "      <td>16</td>\n",
       "      <td>17</td>\n",
       "      <td>NaN</td>\n",
       "      <td>NaN</td>\n",
       "      <td>N</td>\n",
       "      <td>NaN</td>\n",
       "      <td>302</td>\n",
       "      <td>1404</td>\n",
       "      <td>403</td>\n",
       "      <td>43</td>\n",
       "      <td>21</td>\n",
       "      <td>1</td>\n",
       "      <td>33.0</td>\n",
       "      <td>15.0</td>\n",
       "      <td>46.0</td>\n",
       "      <td>15.0</td>\n",
       "      <td>NaN</td>\n",
       "      <td>NaN</td>\n",
       "      <td>313</td>\n",
       "      <td>121</td>\n",
       "      <td>3.72</td>\n",
       "      <td>32</td>\n",
       "      <td>1</td>\n",
       "      <td>0</td>\n",
       "      <td>879</td>\n",
       "      <td>373</td>\n",
       "      <td>7</td>\n",
       "      <td>42</td>\n",
       "      <td>22</td>\n",
       "      <td>235</td>\n",
       "      <td>14</td>\n",
       "      <td>0.840</td>\n",
       "      <td>New York Mutuals</td>\n",
       "      <td>Union Grounds (Brooklyn)</td>\n",
       "      <td>NaN</td>\n",
       "      <td>90</td>\n",
       "      <td>88</td>\n",
       "      <td>NYU</td>\n",
       "      <td>NY2</td>\n",
       "      <td>NY2</td>\n",
       "    </tr>\n",
       "  </tbody>\n",
       "</table>\n",
       "</div>"
      ],
      "text/plain": [
       "   yearID lgID teamID franchID divID  Rank   G  Ghome   W   L DivWin WCWin  \\\n",
       "0    1871  NaN    BS1      BNA   NaN     3  31    NaN  20  10    NaN   NaN   \n",
       "1    1871  NaN    CH1      CNA   NaN     2  28    NaN  19   9    NaN   NaN   \n",
       "2    1871  NaN    CL1      CFC   NaN     8  29    NaN  10  19    NaN   NaN   \n",
       "3    1871  NaN    FW1      KEK   NaN     7  19    NaN   7  12    NaN   NaN   \n",
       "4    1871  NaN    NY2      NNA   NaN     5  33    NaN  16  17    NaN   NaN   \n",
       "\n",
       "  LgWin WSWin    R    AB    H  2B  3B  HR    BB    SO    SB    CS  HBP  SF  \\\n",
       "0     N   NaN  401  1372  426  70  37   3  60.0  19.0  73.0  16.0  NaN NaN   \n",
       "1     N   NaN  302  1196  323  52  21  10  60.0  22.0  69.0  21.0  NaN NaN   \n",
       "2     N   NaN  249  1186  328  35  40   7  26.0  25.0  18.0   8.0  NaN NaN   \n",
       "3     N   NaN  137   746  178  19   8   2  33.0   9.0  16.0   4.0  NaN NaN   \n",
       "4     N   NaN  302  1404  403  43  21   1  33.0  15.0  46.0  15.0  NaN NaN   \n",
       "\n",
       "    RA   ER   ERA  CG  SHO  SV  IPouts   HA  HRA  BBA  SOA    E  DP     FP  \\\n",
       "0  303  109  3.55  22    1   3     828  367    2   42   23  243  24  0.834   \n",
       "1  241   77  2.76  25    0   1     753  308    6   28   22  229  16  0.829   \n",
       "2  341  116  4.11  23    0   0     762  346   13   53   34  234  15  0.818   \n",
       "3  243   97  5.17  19    1   0     507  261    5   21   17  163   8  0.803   \n",
       "4  313  121  3.72  32    1   0     879  373    7   42   22  235  14  0.840   \n",
       "\n",
       "                      name                          park  attendance  BPF  \\\n",
       "0     Boston Red Stockings           South End Grounds I         NaN  103   \n",
       "1  Chicago White Stockings       Union Base-Ball Grounds         NaN  104   \n",
       "2   Cleveland Forest Citys  National Association Grounds         NaN   96   \n",
       "3     Fort Wayne Kekiongas                Hamilton Field         NaN  101   \n",
       "4         New York Mutuals      Union Grounds (Brooklyn)         NaN   90   \n",
       "\n",
       "   PPF teamIDBR teamIDlahman45 teamIDretro  \n",
       "0   98      BOS            BS1         BS1  \n",
       "1  102      CHI            CH1         CH1  \n",
       "2  100      CLE            CL1         CL1  \n",
       "3  107      KEK            FW1         FW1  \n",
       "4   88      NYU            NY2         NY2  "
      ]
     },
     "execution_count": 24,
     "metadata": {},
     "output_type": "execute_result"
    }
   ],
   "source": [
    "dT.head()"
   ]
  },
  {
   "cell_type": "code",
   "execution_count": 25,
   "metadata": {},
   "outputs": [],
   "source": [
    "dictTeamIDToFranchise=pd.Series(dT.franchID.values,index=dT.teamID).to_dict()"
   ]
  },
  {
   "cell_type": "markdown",
   "metadata": {},
   "source": [
    "now create a distionary of teamID to Franchise Name"
   ]
  },
  {
   "cell_type": "code",
   "execution_count": 26,
   "metadata": {},
   "outputs": [],
   "source": [
    "dTeamName={}\n",
    "for key in dictTeamIDToFranchise.keys():\n",
    "  tkey=dictTeamIDToFranchise[key]  \n",
    "  dTeamName[key] = dictFranchiseToName[tkey]"
   ]
  },
  {
   "cell_type": "markdown",
   "metadata": {},
   "source": [
    "Finally add the team Name"
   ]
  },
  {
   "cell_type": "code",
   "execution_count": 27,
   "metadata": {},
   "outputs": [
    {
     "data": {
      "text/html": [
       "<div>\n",
       "<style scoped>\n",
       "    .dataframe tbody tr th:only-of-type {\n",
       "        vertical-align: middle;\n",
       "    }\n",
       "\n",
       "    .dataframe tbody tr th {\n",
       "        vertical-align: top;\n",
       "    }\n",
       "\n",
       "    .dataframe thead th {\n",
       "        text-align: right;\n",
       "    }\n",
       "</style>\n",
       "<table border=\"1\" class=\"dataframe\">\n",
       "  <thead>\n",
       "    <tr style=\"text-align: right;\">\n",
       "      <th></th>\n",
       "      <th>pkey</th>\n",
       "      <th>playerID</th>\n",
       "      <th>yearID</th>\n",
       "      <th>stint</th>\n",
       "      <th>teamID</th>\n",
       "      <th>lgID</th>\n",
       "      <th>G</th>\n",
       "      <th>AB</th>\n",
       "      <th>R</th>\n",
       "      <th>H</th>\n",
       "      <th>2B</th>\n",
       "      <th>3B</th>\n",
       "      <th>HR</th>\n",
       "      <th>RBI</th>\n",
       "      <th>SB</th>\n",
       "      <th>CS</th>\n",
       "      <th>BB</th>\n",
       "      <th>SO</th>\n",
       "      <th>IBB</th>\n",
       "      <th>HBP</th>\n",
       "      <th>SH</th>\n",
       "      <th>SF</th>\n",
       "      <th>GIDP</th>\n",
       "      <th>teamName</th>\n",
       "    </tr>\n",
       "  </thead>\n",
       "  <tbody>\n",
       "    <tr>\n",
       "      <th>0</th>\n",
       "      <td>1</td>\n",
       "      <td>abercda01</td>\n",
       "      <td>1871</td>\n",
       "      <td>1</td>\n",
       "      <td>TRO</td>\n",
       "      <td>nan</td>\n",
       "      <td>1</td>\n",
       "      <td>4</td>\n",
       "      <td>0</td>\n",
       "      <td>0</td>\n",
       "      <td>0</td>\n",
       "      <td>0</td>\n",
       "      <td>0</td>\n",
       "      <td>0</td>\n",
       "      <td>0</td>\n",
       "      <td>0</td>\n",
       "      <td>0</td>\n",
       "      <td>0</td>\n",
       "      <td>&lt;NA&gt;</td>\n",
       "      <td>&lt;NA&gt;</td>\n",
       "      <td>&lt;NA&gt;</td>\n",
       "      <td>&lt;NA&gt;</td>\n",
       "      <td>0</td>\n",
       "      <td>Troy Haymakers</td>\n",
       "    </tr>\n",
       "    <tr>\n",
       "      <th>1</th>\n",
       "      <td>2</td>\n",
       "      <td>addybo01</td>\n",
       "      <td>1871</td>\n",
       "      <td>1</td>\n",
       "      <td>RC1</td>\n",
       "      <td>nan</td>\n",
       "      <td>25</td>\n",
       "      <td>118</td>\n",
       "      <td>30</td>\n",
       "      <td>32</td>\n",
       "      <td>6</td>\n",
       "      <td>0</td>\n",
       "      <td>0</td>\n",
       "      <td>13</td>\n",
       "      <td>8</td>\n",
       "      <td>1</td>\n",
       "      <td>4</td>\n",
       "      <td>0</td>\n",
       "      <td>&lt;NA&gt;</td>\n",
       "      <td>&lt;NA&gt;</td>\n",
       "      <td>&lt;NA&gt;</td>\n",
       "      <td>&lt;NA&gt;</td>\n",
       "      <td>0</td>\n",
       "      <td>Rockford Forest Citys</td>\n",
       "    </tr>\n",
       "    <tr>\n",
       "      <th>2</th>\n",
       "      <td>3</td>\n",
       "      <td>allisar01</td>\n",
       "      <td>1871</td>\n",
       "      <td>1</td>\n",
       "      <td>CL1</td>\n",
       "      <td>nan</td>\n",
       "      <td>29</td>\n",
       "      <td>137</td>\n",
       "      <td>28</td>\n",
       "      <td>40</td>\n",
       "      <td>4</td>\n",
       "      <td>5</td>\n",
       "      <td>0</td>\n",
       "      <td>19</td>\n",
       "      <td>3</td>\n",
       "      <td>1</td>\n",
       "      <td>2</td>\n",
       "      <td>5</td>\n",
       "      <td>&lt;NA&gt;</td>\n",
       "      <td>&lt;NA&gt;</td>\n",
       "      <td>&lt;NA&gt;</td>\n",
       "      <td>&lt;NA&gt;</td>\n",
       "      <td>1</td>\n",
       "      <td>Cleveland Forest Citys</td>\n",
       "    </tr>\n",
       "    <tr>\n",
       "      <th>3</th>\n",
       "      <td>4</td>\n",
       "      <td>allisdo01</td>\n",
       "      <td>1871</td>\n",
       "      <td>1</td>\n",
       "      <td>WS3</td>\n",
       "      <td>nan</td>\n",
       "      <td>27</td>\n",
       "      <td>133</td>\n",
       "      <td>28</td>\n",
       "      <td>44</td>\n",
       "      <td>10</td>\n",
       "      <td>2</td>\n",
       "      <td>2</td>\n",
       "      <td>27</td>\n",
       "      <td>1</td>\n",
       "      <td>1</td>\n",
       "      <td>0</td>\n",
       "      <td>2</td>\n",
       "      <td>&lt;NA&gt;</td>\n",
       "      <td>&lt;NA&gt;</td>\n",
       "      <td>&lt;NA&gt;</td>\n",
       "      <td>&lt;NA&gt;</td>\n",
       "      <td>0</td>\n",
       "      <td>Washington Olympics</td>\n",
       "    </tr>\n",
       "    <tr>\n",
       "      <th>4</th>\n",
       "      <td>5</td>\n",
       "      <td>ansonca01</td>\n",
       "      <td>1871</td>\n",
       "      <td>1</td>\n",
       "      <td>RC1</td>\n",
       "      <td>nan</td>\n",
       "      <td>25</td>\n",
       "      <td>120</td>\n",
       "      <td>29</td>\n",
       "      <td>39</td>\n",
       "      <td>11</td>\n",
       "      <td>3</td>\n",
       "      <td>0</td>\n",
       "      <td>16</td>\n",
       "      <td>6</td>\n",
       "      <td>2</td>\n",
       "      <td>2</td>\n",
       "      <td>1</td>\n",
       "      <td>&lt;NA&gt;</td>\n",
       "      <td>&lt;NA&gt;</td>\n",
       "      <td>&lt;NA&gt;</td>\n",
       "      <td>&lt;NA&gt;</td>\n",
       "      <td>0</td>\n",
       "      <td>Rockford Forest Citys</td>\n",
       "    </tr>\n",
       "  </tbody>\n",
       "</table>\n",
       "</div>"
      ],
      "text/plain": [
       "   pkey   playerID yearID  stint teamID lgID   G   AB   R   H  2B  3B  HR  \\\n",
       "0     1  abercda01   1871      1    TRO  nan   1    4   0   0   0   0   0   \n",
       "1     2   addybo01   1871      1    RC1  nan  25  118  30  32   6   0   0   \n",
       "2     3  allisar01   1871      1    CL1  nan  29  137  28  40   4   5   0   \n",
       "3     4  allisdo01   1871      1    WS3  nan  27  133  28  44  10   2   2   \n",
       "4     5  ansonca01   1871      1    RC1  nan  25  120  29  39  11   3   0   \n",
       "\n",
       "   RBI  SB  CS  BB  SO   IBB   HBP    SH    SF  GIDP                teamName  \n",
       "0    0   0   0   0   0  <NA>  <NA>  <NA>  <NA>     0          Troy Haymakers  \n",
       "1   13   8   1   4   0  <NA>  <NA>  <NA>  <NA>     0   Rockford Forest Citys  \n",
       "2   19   3   1   2   5  <NA>  <NA>  <NA>  <NA>     1  Cleveland Forest Citys  \n",
       "3   27   1   1   0   2  <NA>  <NA>  <NA>  <NA>     0     Washington Olympics  \n",
       "4   16   6   2   2   1  <NA>  <NA>  <NA>  <NA>     0   Rockford Forest Citys  "
      ]
     },
     "execution_count": 27,
     "metadata": {},
     "output_type": "execute_result"
    }
   ],
   "source": [
    "dB[\"teamName\"]=dB['teamID'].map(dTeamName)\n",
    "dB.head()"
   ]
  },
  {
   "cell_type": "markdown",
   "metadata": {},
   "source": [
    "Add Career Season "
   ]
  },
  {
   "cell_type": "code",
   "execution_count": 28,
   "metadata": {},
   "outputs": [],
   "source": [
    "dB['CareerYear']=dB['playerID'].map(DebutDict)"
   ]
  },
  {
   "cell_type": "code",
   "execution_count": 29,
   "metadata": {},
   "outputs": [
    {
     "data": {
      "text/html": [
       "<div>\n",
       "<style scoped>\n",
       "    .dataframe tbody tr th:only-of-type {\n",
       "        vertical-align: middle;\n",
       "    }\n",
       "\n",
       "    .dataframe tbody tr th {\n",
       "        vertical-align: top;\n",
       "    }\n",
       "\n",
       "    .dataframe thead th {\n",
       "        text-align: right;\n",
       "    }\n",
       "</style>\n",
       "<table border=\"1\" class=\"dataframe\">\n",
       "  <thead>\n",
       "    <tr style=\"text-align: right;\">\n",
       "      <th></th>\n",
       "      <th>pkey</th>\n",
       "      <th>playerID</th>\n",
       "      <th>yearID</th>\n",
       "      <th>stint</th>\n",
       "      <th>teamID</th>\n",
       "      <th>lgID</th>\n",
       "      <th>G</th>\n",
       "      <th>AB</th>\n",
       "      <th>R</th>\n",
       "      <th>H</th>\n",
       "      <th>2B</th>\n",
       "      <th>3B</th>\n",
       "      <th>HR</th>\n",
       "      <th>RBI</th>\n",
       "      <th>SB</th>\n",
       "      <th>CS</th>\n",
       "      <th>BB</th>\n",
       "      <th>SO</th>\n",
       "      <th>IBB</th>\n",
       "      <th>HBP</th>\n",
       "      <th>SH</th>\n",
       "      <th>SF</th>\n",
       "      <th>GIDP</th>\n",
       "      <th>teamName</th>\n",
       "      <th>CareerYear</th>\n",
       "    </tr>\n",
       "  </thead>\n",
       "  <tbody>\n",
       "    <tr>\n",
       "      <th>0</th>\n",
       "      <td>1</td>\n",
       "      <td>abercda01</td>\n",
       "      <td>1871</td>\n",
       "      <td>1</td>\n",
       "      <td>TRO</td>\n",
       "      <td>nan</td>\n",
       "      <td>1</td>\n",
       "      <td>4</td>\n",
       "      <td>0</td>\n",
       "      <td>0</td>\n",
       "      <td>0</td>\n",
       "      <td>0</td>\n",
       "      <td>0</td>\n",
       "      <td>0</td>\n",
       "      <td>0</td>\n",
       "      <td>0</td>\n",
       "      <td>0</td>\n",
       "      <td>0</td>\n",
       "      <td>&lt;NA&gt;</td>\n",
       "      <td>&lt;NA&gt;</td>\n",
       "      <td>&lt;NA&gt;</td>\n",
       "      <td>&lt;NA&gt;</td>\n",
       "      <td>0</td>\n",
       "      <td>Troy Haymakers</td>\n",
       "      <td>1871.0</td>\n",
       "    </tr>\n",
       "    <tr>\n",
       "      <th>1</th>\n",
       "      <td>2</td>\n",
       "      <td>addybo01</td>\n",
       "      <td>1871</td>\n",
       "      <td>1</td>\n",
       "      <td>RC1</td>\n",
       "      <td>nan</td>\n",
       "      <td>25</td>\n",
       "      <td>118</td>\n",
       "      <td>30</td>\n",
       "      <td>32</td>\n",
       "      <td>6</td>\n",
       "      <td>0</td>\n",
       "      <td>0</td>\n",
       "      <td>13</td>\n",
       "      <td>8</td>\n",
       "      <td>1</td>\n",
       "      <td>4</td>\n",
       "      <td>0</td>\n",
       "      <td>&lt;NA&gt;</td>\n",
       "      <td>&lt;NA&gt;</td>\n",
       "      <td>&lt;NA&gt;</td>\n",
       "      <td>&lt;NA&gt;</td>\n",
       "      <td>0</td>\n",
       "      <td>Rockford Forest Citys</td>\n",
       "      <td>1871.0</td>\n",
       "    </tr>\n",
       "    <tr>\n",
       "      <th>2</th>\n",
       "      <td>3</td>\n",
       "      <td>allisar01</td>\n",
       "      <td>1871</td>\n",
       "      <td>1</td>\n",
       "      <td>CL1</td>\n",
       "      <td>nan</td>\n",
       "      <td>29</td>\n",
       "      <td>137</td>\n",
       "      <td>28</td>\n",
       "      <td>40</td>\n",
       "      <td>4</td>\n",
       "      <td>5</td>\n",
       "      <td>0</td>\n",
       "      <td>19</td>\n",
       "      <td>3</td>\n",
       "      <td>1</td>\n",
       "      <td>2</td>\n",
       "      <td>5</td>\n",
       "      <td>&lt;NA&gt;</td>\n",
       "      <td>&lt;NA&gt;</td>\n",
       "      <td>&lt;NA&gt;</td>\n",
       "      <td>&lt;NA&gt;</td>\n",
       "      <td>1</td>\n",
       "      <td>Cleveland Forest Citys</td>\n",
       "      <td>1871.0</td>\n",
       "    </tr>\n",
       "    <tr>\n",
       "      <th>3</th>\n",
       "      <td>4</td>\n",
       "      <td>allisdo01</td>\n",
       "      <td>1871</td>\n",
       "      <td>1</td>\n",
       "      <td>WS3</td>\n",
       "      <td>nan</td>\n",
       "      <td>27</td>\n",
       "      <td>133</td>\n",
       "      <td>28</td>\n",
       "      <td>44</td>\n",
       "      <td>10</td>\n",
       "      <td>2</td>\n",
       "      <td>2</td>\n",
       "      <td>27</td>\n",
       "      <td>1</td>\n",
       "      <td>1</td>\n",
       "      <td>0</td>\n",
       "      <td>2</td>\n",
       "      <td>&lt;NA&gt;</td>\n",
       "      <td>&lt;NA&gt;</td>\n",
       "      <td>&lt;NA&gt;</td>\n",
       "      <td>&lt;NA&gt;</td>\n",
       "      <td>0</td>\n",
       "      <td>Washington Olympics</td>\n",
       "      <td>1871.0</td>\n",
       "    </tr>\n",
       "    <tr>\n",
       "      <th>4</th>\n",
       "      <td>5</td>\n",
       "      <td>ansonca01</td>\n",
       "      <td>1871</td>\n",
       "      <td>1</td>\n",
       "      <td>RC1</td>\n",
       "      <td>nan</td>\n",
       "      <td>25</td>\n",
       "      <td>120</td>\n",
       "      <td>29</td>\n",
       "      <td>39</td>\n",
       "      <td>11</td>\n",
       "      <td>3</td>\n",
       "      <td>0</td>\n",
       "      <td>16</td>\n",
       "      <td>6</td>\n",
       "      <td>2</td>\n",
       "      <td>2</td>\n",
       "      <td>1</td>\n",
       "      <td>&lt;NA&gt;</td>\n",
       "      <td>&lt;NA&gt;</td>\n",
       "      <td>&lt;NA&gt;</td>\n",
       "      <td>&lt;NA&gt;</td>\n",
       "      <td>0</td>\n",
       "      <td>Rockford Forest Citys</td>\n",
       "      <td>1871.0</td>\n",
       "    </tr>\n",
       "  </tbody>\n",
       "</table>\n",
       "</div>"
      ],
      "text/plain": [
       "   pkey   playerID yearID  stint teamID lgID   G   AB   R   H  2B  3B  HR  \\\n",
       "0     1  abercda01   1871      1    TRO  nan   1    4   0   0   0   0   0   \n",
       "1     2   addybo01   1871      1    RC1  nan  25  118  30  32   6   0   0   \n",
       "2     3  allisar01   1871      1    CL1  nan  29  137  28  40   4   5   0   \n",
       "3     4  allisdo01   1871      1    WS3  nan  27  133  28  44  10   2   2   \n",
       "4     5  ansonca01   1871      1    RC1  nan  25  120  29  39  11   3   0   \n",
       "\n",
       "   RBI  SB  CS  BB  SO   IBB   HBP    SH    SF  GIDP                teamName  \\\n",
       "0    0   0   0   0   0  <NA>  <NA>  <NA>  <NA>     0          Troy Haymakers   \n",
       "1   13   8   1   4   0  <NA>  <NA>  <NA>  <NA>     0   Rockford Forest Citys   \n",
       "2   19   3   1   2   5  <NA>  <NA>  <NA>  <NA>     1  Cleveland Forest Citys   \n",
       "3   27   1   1   0   2  <NA>  <NA>  <NA>  <NA>     0     Washington Olympics   \n",
       "4   16   6   2   2   1  <NA>  <NA>  <NA>  <NA>     0   Rockford Forest Citys   \n",
       "\n",
       "   CareerYear  \n",
       "0      1871.0  \n",
       "1      1871.0  \n",
       "2      1871.0  \n",
       "3      1871.0  \n",
       "4      1871.0  "
      ]
     },
     "execution_count": 29,
     "metadata": {},
     "output_type": "execute_result"
    }
   ],
   "source": [
    "dB.head()"
   ]
  },
  {
   "cell_type": "code",
   "execution_count": 30,
   "metadata": {},
   "outputs": [
    {
     "data": {
      "text/html": [
       "<div>\n",
       "<style scoped>\n",
       "    .dataframe tbody tr th:only-of-type {\n",
       "        vertical-align: middle;\n",
       "    }\n",
       "\n",
       "    .dataframe tbody tr th {\n",
       "        vertical-align: top;\n",
       "    }\n",
       "\n",
       "    .dataframe thead th {\n",
       "        text-align: right;\n",
       "    }\n",
       "</style>\n",
       "<table border=\"1\" class=\"dataframe\">\n",
       "  <thead>\n",
       "    <tr style=\"text-align: right;\">\n",
       "      <th></th>\n",
       "      <th>pkey</th>\n",
       "      <th>playerID</th>\n",
       "      <th>yearID</th>\n",
       "      <th>stint</th>\n",
       "      <th>teamID</th>\n",
       "      <th>lgID</th>\n",
       "      <th>G</th>\n",
       "      <th>AB</th>\n",
       "      <th>R</th>\n",
       "      <th>H</th>\n",
       "      <th>2B</th>\n",
       "      <th>3B</th>\n",
       "      <th>HR</th>\n",
       "      <th>RBI</th>\n",
       "      <th>SB</th>\n",
       "      <th>CS</th>\n",
       "      <th>BB</th>\n",
       "      <th>SO</th>\n",
       "      <th>IBB</th>\n",
       "      <th>HBP</th>\n",
       "      <th>SH</th>\n",
       "      <th>SF</th>\n",
       "      <th>GIDP</th>\n",
       "      <th>teamName</th>\n",
       "      <th>CareerYear</th>\n",
       "    </tr>\n",
       "  </thead>\n",
       "  <tbody>\n",
       "    <tr>\n",
       "      <th>0</th>\n",
       "      <td>1</td>\n",
       "      <td>abercda01</td>\n",
       "      <td>1871</td>\n",
       "      <td>1</td>\n",
       "      <td>TRO</td>\n",
       "      <td>nan</td>\n",
       "      <td>1</td>\n",
       "      <td>4</td>\n",
       "      <td>0</td>\n",
       "      <td>0</td>\n",
       "      <td>0</td>\n",
       "      <td>0</td>\n",
       "      <td>0</td>\n",
       "      <td>0</td>\n",
       "      <td>0</td>\n",
       "      <td>0</td>\n",
       "      <td>0</td>\n",
       "      <td>0</td>\n",
       "      <td>&lt;NA&gt;</td>\n",
       "      <td>&lt;NA&gt;</td>\n",
       "      <td>&lt;NA&gt;</td>\n",
       "      <td>&lt;NA&gt;</td>\n",
       "      <td>0</td>\n",
       "      <td>Troy Haymakers</td>\n",
       "      <td>1871</td>\n",
       "    </tr>\n",
       "    <tr>\n",
       "      <th>1</th>\n",
       "      <td>2</td>\n",
       "      <td>addybo01</td>\n",
       "      <td>1871</td>\n",
       "      <td>1</td>\n",
       "      <td>RC1</td>\n",
       "      <td>nan</td>\n",
       "      <td>25</td>\n",
       "      <td>118</td>\n",
       "      <td>30</td>\n",
       "      <td>32</td>\n",
       "      <td>6</td>\n",
       "      <td>0</td>\n",
       "      <td>0</td>\n",
       "      <td>13</td>\n",
       "      <td>8</td>\n",
       "      <td>1</td>\n",
       "      <td>4</td>\n",
       "      <td>0</td>\n",
       "      <td>&lt;NA&gt;</td>\n",
       "      <td>&lt;NA&gt;</td>\n",
       "      <td>&lt;NA&gt;</td>\n",
       "      <td>&lt;NA&gt;</td>\n",
       "      <td>0</td>\n",
       "      <td>Rockford Forest Citys</td>\n",
       "      <td>1871</td>\n",
       "    </tr>\n",
       "    <tr>\n",
       "      <th>2</th>\n",
       "      <td>3</td>\n",
       "      <td>allisar01</td>\n",
       "      <td>1871</td>\n",
       "      <td>1</td>\n",
       "      <td>CL1</td>\n",
       "      <td>nan</td>\n",
       "      <td>29</td>\n",
       "      <td>137</td>\n",
       "      <td>28</td>\n",
       "      <td>40</td>\n",
       "      <td>4</td>\n",
       "      <td>5</td>\n",
       "      <td>0</td>\n",
       "      <td>19</td>\n",
       "      <td>3</td>\n",
       "      <td>1</td>\n",
       "      <td>2</td>\n",
       "      <td>5</td>\n",
       "      <td>&lt;NA&gt;</td>\n",
       "      <td>&lt;NA&gt;</td>\n",
       "      <td>&lt;NA&gt;</td>\n",
       "      <td>&lt;NA&gt;</td>\n",
       "      <td>1</td>\n",
       "      <td>Cleveland Forest Citys</td>\n",
       "      <td>1871</td>\n",
       "    </tr>\n",
       "    <tr>\n",
       "      <th>3</th>\n",
       "      <td>4</td>\n",
       "      <td>allisdo01</td>\n",
       "      <td>1871</td>\n",
       "      <td>1</td>\n",
       "      <td>WS3</td>\n",
       "      <td>nan</td>\n",
       "      <td>27</td>\n",
       "      <td>133</td>\n",
       "      <td>28</td>\n",
       "      <td>44</td>\n",
       "      <td>10</td>\n",
       "      <td>2</td>\n",
       "      <td>2</td>\n",
       "      <td>27</td>\n",
       "      <td>1</td>\n",
       "      <td>1</td>\n",
       "      <td>0</td>\n",
       "      <td>2</td>\n",
       "      <td>&lt;NA&gt;</td>\n",
       "      <td>&lt;NA&gt;</td>\n",
       "      <td>&lt;NA&gt;</td>\n",
       "      <td>&lt;NA&gt;</td>\n",
       "      <td>0</td>\n",
       "      <td>Washington Olympics</td>\n",
       "      <td>1871</td>\n",
       "    </tr>\n",
       "    <tr>\n",
       "      <th>4</th>\n",
       "      <td>5</td>\n",
       "      <td>ansonca01</td>\n",
       "      <td>1871</td>\n",
       "      <td>1</td>\n",
       "      <td>RC1</td>\n",
       "      <td>nan</td>\n",
       "      <td>25</td>\n",
       "      <td>120</td>\n",
       "      <td>29</td>\n",
       "      <td>39</td>\n",
       "      <td>11</td>\n",
       "      <td>3</td>\n",
       "      <td>0</td>\n",
       "      <td>16</td>\n",
       "      <td>6</td>\n",
       "      <td>2</td>\n",
       "      <td>2</td>\n",
       "      <td>1</td>\n",
       "      <td>&lt;NA&gt;</td>\n",
       "      <td>&lt;NA&gt;</td>\n",
       "      <td>&lt;NA&gt;</td>\n",
       "      <td>&lt;NA&gt;</td>\n",
       "      <td>0</td>\n",
       "      <td>Rockford Forest Citys</td>\n",
       "      <td>1871</td>\n",
       "    </tr>\n",
       "  </tbody>\n",
       "</table>\n",
       "</div>"
      ],
      "text/plain": [
       "   pkey   playerID  yearID  stint teamID lgID   G   AB   R   H  2B  3B  HR  \\\n",
       "0     1  abercda01    1871      1    TRO  nan   1    4   0   0   0   0   0   \n",
       "1     2   addybo01    1871      1    RC1  nan  25  118  30  32   6   0   0   \n",
       "2     3  allisar01    1871      1    CL1  nan  29  137  28  40   4   5   0   \n",
       "3     4  allisdo01    1871      1    WS3  nan  27  133  28  44  10   2   2   \n",
       "4     5  ansonca01    1871      1    RC1  nan  25  120  29  39  11   3   0   \n",
       "\n",
       "   RBI  SB  CS  BB  SO   IBB   HBP    SH    SF  GIDP                teamName  \\\n",
       "0    0   0   0   0   0  <NA>  <NA>  <NA>  <NA>     0          Troy Haymakers   \n",
       "1   13   8   1   4   0  <NA>  <NA>  <NA>  <NA>     0   Rockford Forest Citys   \n",
       "2   19   3   1   2   5  <NA>  <NA>  <NA>  <NA>     1  Cleveland Forest Citys   \n",
       "3   27   1   1   0   2  <NA>  <NA>  <NA>  <NA>     0     Washington Olympics   \n",
       "4   16   6   2   2   1  <NA>  <NA>  <NA>  <NA>     0   Rockford Forest Citys   \n",
       "\n",
       "   CareerYear  \n",
       "0        1871  \n",
       "1        1871  \n",
       "2        1871  \n",
       "3        1871  \n",
       "4        1871  "
      ]
     },
     "execution_count": 30,
     "metadata": {},
     "output_type": "execute_result"
    }
   ],
   "source": [
    "dB['yearID']=dB['yearID'].astype(int)\n",
    "dB.dropna(subset=['CareerYear'],inplace=True)\n",
    "dB['CareerYear']=dB['CareerYear'].astype(int)\n",
    "dB.head()"
   ]
  },
  {
   "cell_type": "code",
   "execution_count": 31,
   "metadata": {},
   "outputs": [
    {
     "data": {
      "text/html": [
       "<div>\n",
       "<style scoped>\n",
       "    .dataframe tbody tr th:only-of-type {\n",
       "        vertical-align: middle;\n",
       "    }\n",
       "\n",
       "    .dataframe tbody tr th {\n",
       "        vertical-align: top;\n",
       "    }\n",
       "\n",
       "    .dataframe thead th {\n",
       "        text-align: right;\n",
       "    }\n",
       "</style>\n",
       "<table border=\"1\" class=\"dataframe\">\n",
       "  <thead>\n",
       "    <tr style=\"text-align: right;\">\n",
       "      <th></th>\n",
       "      <th>pkey</th>\n",
       "      <th>playerID</th>\n",
       "      <th>yearID</th>\n",
       "      <th>stint</th>\n",
       "      <th>teamID</th>\n",
       "      <th>lgID</th>\n",
       "      <th>G</th>\n",
       "      <th>AB</th>\n",
       "      <th>R</th>\n",
       "      <th>H</th>\n",
       "      <th>2B</th>\n",
       "      <th>3B</th>\n",
       "      <th>HR</th>\n",
       "      <th>RBI</th>\n",
       "      <th>SB</th>\n",
       "      <th>CS</th>\n",
       "      <th>BB</th>\n",
       "      <th>SO</th>\n",
       "      <th>IBB</th>\n",
       "      <th>HBP</th>\n",
       "      <th>SH</th>\n",
       "      <th>SF</th>\n",
       "      <th>GIDP</th>\n",
       "      <th>teamName</th>\n",
       "      <th>CareerYear</th>\n",
       "    </tr>\n",
       "  </thead>\n",
       "  <tbody>\n",
       "    <tr>\n",
       "      <th>0</th>\n",
       "      <td>1</td>\n",
       "      <td>abercda01</td>\n",
       "      <td>1871</td>\n",
       "      <td>1</td>\n",
       "      <td>TRO</td>\n",
       "      <td>nan</td>\n",
       "      <td>1</td>\n",
       "      <td>4</td>\n",
       "      <td>0</td>\n",
       "      <td>0</td>\n",
       "      <td>0</td>\n",
       "      <td>0</td>\n",
       "      <td>0</td>\n",
       "      <td>0</td>\n",
       "      <td>0</td>\n",
       "      <td>0</td>\n",
       "      <td>0</td>\n",
       "      <td>0</td>\n",
       "      <td>&lt;NA&gt;</td>\n",
       "      <td>&lt;NA&gt;</td>\n",
       "      <td>&lt;NA&gt;</td>\n",
       "      <td>&lt;NA&gt;</td>\n",
       "      <td>0</td>\n",
       "      <td>Troy Haymakers</td>\n",
       "      <td>1</td>\n",
       "    </tr>\n",
       "    <tr>\n",
       "      <th>1</th>\n",
       "      <td>2</td>\n",
       "      <td>addybo01</td>\n",
       "      <td>1871</td>\n",
       "      <td>1</td>\n",
       "      <td>RC1</td>\n",
       "      <td>nan</td>\n",
       "      <td>25</td>\n",
       "      <td>118</td>\n",
       "      <td>30</td>\n",
       "      <td>32</td>\n",
       "      <td>6</td>\n",
       "      <td>0</td>\n",
       "      <td>0</td>\n",
       "      <td>13</td>\n",
       "      <td>8</td>\n",
       "      <td>1</td>\n",
       "      <td>4</td>\n",
       "      <td>0</td>\n",
       "      <td>&lt;NA&gt;</td>\n",
       "      <td>&lt;NA&gt;</td>\n",
       "      <td>&lt;NA&gt;</td>\n",
       "      <td>&lt;NA&gt;</td>\n",
       "      <td>0</td>\n",
       "      <td>Rockford Forest Citys</td>\n",
       "      <td>1</td>\n",
       "    </tr>\n",
       "    <tr>\n",
       "      <th>2</th>\n",
       "      <td>3</td>\n",
       "      <td>allisar01</td>\n",
       "      <td>1871</td>\n",
       "      <td>1</td>\n",
       "      <td>CL1</td>\n",
       "      <td>nan</td>\n",
       "      <td>29</td>\n",
       "      <td>137</td>\n",
       "      <td>28</td>\n",
       "      <td>40</td>\n",
       "      <td>4</td>\n",
       "      <td>5</td>\n",
       "      <td>0</td>\n",
       "      <td>19</td>\n",
       "      <td>3</td>\n",
       "      <td>1</td>\n",
       "      <td>2</td>\n",
       "      <td>5</td>\n",
       "      <td>&lt;NA&gt;</td>\n",
       "      <td>&lt;NA&gt;</td>\n",
       "      <td>&lt;NA&gt;</td>\n",
       "      <td>&lt;NA&gt;</td>\n",
       "      <td>1</td>\n",
       "      <td>Cleveland Forest Citys</td>\n",
       "      <td>1</td>\n",
       "    </tr>\n",
       "    <tr>\n",
       "      <th>3</th>\n",
       "      <td>4</td>\n",
       "      <td>allisdo01</td>\n",
       "      <td>1871</td>\n",
       "      <td>1</td>\n",
       "      <td>WS3</td>\n",
       "      <td>nan</td>\n",
       "      <td>27</td>\n",
       "      <td>133</td>\n",
       "      <td>28</td>\n",
       "      <td>44</td>\n",
       "      <td>10</td>\n",
       "      <td>2</td>\n",
       "      <td>2</td>\n",
       "      <td>27</td>\n",
       "      <td>1</td>\n",
       "      <td>1</td>\n",
       "      <td>0</td>\n",
       "      <td>2</td>\n",
       "      <td>&lt;NA&gt;</td>\n",
       "      <td>&lt;NA&gt;</td>\n",
       "      <td>&lt;NA&gt;</td>\n",
       "      <td>&lt;NA&gt;</td>\n",
       "      <td>0</td>\n",
       "      <td>Washington Olympics</td>\n",
       "      <td>1</td>\n",
       "    </tr>\n",
       "    <tr>\n",
       "      <th>4</th>\n",
       "      <td>5</td>\n",
       "      <td>ansonca01</td>\n",
       "      <td>1871</td>\n",
       "      <td>1</td>\n",
       "      <td>RC1</td>\n",
       "      <td>nan</td>\n",
       "      <td>25</td>\n",
       "      <td>120</td>\n",
       "      <td>29</td>\n",
       "      <td>39</td>\n",
       "      <td>11</td>\n",
       "      <td>3</td>\n",
       "      <td>0</td>\n",
       "      <td>16</td>\n",
       "      <td>6</td>\n",
       "      <td>2</td>\n",
       "      <td>2</td>\n",
       "      <td>1</td>\n",
       "      <td>&lt;NA&gt;</td>\n",
       "      <td>&lt;NA&gt;</td>\n",
       "      <td>&lt;NA&gt;</td>\n",
       "      <td>&lt;NA&gt;</td>\n",
       "      <td>0</td>\n",
       "      <td>Rockford Forest Citys</td>\n",
       "      <td>1</td>\n",
       "    </tr>\n",
       "  </tbody>\n",
       "</table>\n",
       "</div>"
      ],
      "text/plain": [
       "   pkey   playerID  yearID  stint teamID lgID   G   AB   R   H  2B  3B  HR  \\\n",
       "0     1  abercda01    1871      1    TRO  nan   1    4   0   0   0   0   0   \n",
       "1     2   addybo01    1871      1    RC1  nan  25  118  30  32   6   0   0   \n",
       "2     3  allisar01    1871      1    CL1  nan  29  137  28  40   4   5   0   \n",
       "3     4  allisdo01    1871      1    WS3  nan  27  133  28  44  10   2   2   \n",
       "4     5  ansonca01    1871      1    RC1  nan  25  120  29  39  11   3   0   \n",
       "\n",
       "   RBI  SB  CS  BB  SO   IBB   HBP    SH    SF  GIDP                teamName  \\\n",
       "0    0   0   0   0   0  <NA>  <NA>  <NA>  <NA>     0          Troy Haymakers   \n",
       "1   13   8   1   4   0  <NA>  <NA>  <NA>  <NA>     0   Rockford Forest Citys   \n",
       "2   19   3   1   2   5  <NA>  <NA>  <NA>  <NA>     1  Cleveland Forest Citys   \n",
       "3   27   1   1   0   2  <NA>  <NA>  <NA>  <NA>     0     Washington Olympics   \n",
       "4   16   6   2   2   1  <NA>  <NA>  <NA>  <NA>     0   Rockford Forest Citys   \n",
       "\n",
       "   CareerYear  \n",
       "0           1  \n",
       "1           1  \n",
       "2           1  \n",
       "3           1  \n",
       "4           1  "
      ]
     },
     "execution_count": 31,
     "metadata": {},
     "output_type": "execute_result"
    }
   ],
   "source": [
    "dB['CareerYear'] = (dB['yearID'] - dB['CareerYear']+1)\n",
    "dB.head()"
   ]
  },
  {
   "cell_type": "markdown",
   "metadata": {},
   "source": [
    "## Create the ATOTI Cube"
   ]
  },
  {
   "cell_type": "code",
   "execution_count": 32,
   "metadata": {},
   "outputs": [],
   "source": [
    "# Create an Atoti Session.\n",
    "session = tt.create_session()\n",
    "session.load_all_data()\n",
    "\n",
    "# Load the Pandas DataFrames.\n",
    "\n",
    "Player_Store = session.read_pandas(\n",
    "    dM,\n",
    "    # These are the DataFrame's columns that make each row unique\n",
    "    keys=[\"playerID\"],\n",
    "    store_name=\"players\"\n",
    ")\n",
    "Batting_Store= session.read_pandas(\n",
    "    dB, keys=[\"pkey\"], store_name=\"batting\"\n",
    ")\n",
    "\n",
    "# Join the two stores together.\n",
    "\n",
    "Batting_Store.join(Player_Store, mapping={\"playerID\":\"playerID\"})\n"
   ]
  },
  {
   "cell_type": "code",
   "execution_count": 33,
   "metadata": {},
   "outputs": [
    {
     "name": "stdout",
     "output_type": "stream",
     "text": [
      "Number of results:  {'rows': 19646, 'columns': 10}\n"
     ]
    }
   ],
   "source": [
    "print('Number of results: ',Player_Store.shape)"
   ]
  },
  {
   "cell_type": "code",
   "execution_count": 34,
   "metadata": {},
   "outputs": [],
   "source": [
    "cube = session.create_cube(Batting_Store,name=\"Stats\",mode=\"manual\") \n",
    "l = cube.levels\n",
    "m = cube.measures\n",
    "h = cube.hierarchies"
   ]
  },
  {
   "cell_type": "code",
   "execution_count": 35,
   "metadata": {},
   "outputs": [
    {
     "data": {
      "application/json": {
       "Hierarchies": {
        "Career Year": [
         "CareerYear"
        ],
        "Player": [
         "playerID",
         "FullName"
        ],
        "Team": [
         "teamName"
        ],
        "Year": [
         "yearID"
        ]
       }
      },
      "text/html": [
       "<ul>\n",
       "<li>Dimensions\n",
       "  <ul>\n",
       "  <li>Hierarchies\n",
       "    <ul>\n",
       "    <li>Career Year\n",
       "      <ol>\n",
       "      <li>CareerYear</li>\n",
       "      </ol>    </li>\n",
       "    <li>Player\n",
       "      <ol>\n",
       "      <li>playerID</li>\n",
       "      <li>FullName</li>\n",
       "      </ol>    </li>\n",
       "    <li>Team\n",
       "      <ol>\n",
       "      <li>teamName</li>\n",
       "      </ol>    </li>\n",
       "    <li>Year\n",
       "      <ol>\n",
       "      <li>yearID</li>\n",
       "      </ol>    </li>\n",
       "    </ul>\n",
       "  </li>\n",
       "  </ul>\n",
       "</li>\n",
       "</ul>\n"
      ],
      "text/plain": [
       "Hierarchies()"
      ]
     },
     "execution_count": 35,
     "metadata": {
      "application/json": {
       "expanded": true,
       "root": "Dimensions"
      }
     },
     "output_type": "execute_result"
    }
   ],
   "source": [
    "cube.hierarchies[\"Year\"] = [Batting_Store[\"yearID\"]]\n",
    "cube.hierarchies[\"Career Year\"] = [Batting_Store[\"CareerYear\"]]\n",
    "cube.hierarchies[\"Player\"] = [\n",
    "                                Player_Store[\"playerID\"],\n",
    "                                Player_Store[\"FullName\"]\n",
    "                             ]\n",
    "cube.hierarchies[\"Team\"] = [Batting_Store[\"teamName\"]]\n",
    "\n",
    "# Lets Review the hierarchies\n",
    "h"
   ]
  },
  {
   "cell_type": "markdown",
   "metadata": {},
   "source": [
    "Lets see what the stores look like"
   ]
  },
  {
   "cell_type": "code",
   "execution_count": 36,
   "metadata": {},
   "outputs": [
    {
     "data": {
      "image/svg+xml": [
       "<svg height=\"978px\" viewBox=\"0.00 0.00 467.00 978.00\" width=\"467px\" xmlns=\"http://www.w3.org/2000/svg\" xmlns:xlink=\"http://www.w3.org/1999/xlink\">\n",
       "<g class=\"graph\" id=\"graph0\" transform=\"scale(1.0 1.0) rotate(0) translate(4 974)\">\n",
       "<title>Stats schema</title>\n",
       "<polygon fill=\"white\" points=\"-4,4 -4,-974 463,-974 463,4 -4,4\" stroke=\"none\"/>\n",
       "<!-- batting -->\n",
       "<g class=\"node\" id=\"node1\"><title>batting</title>\n",
       "<polygon fill=\"none\" points=\"8.5,-929 8.5,-966 133.5,-966 133.5,-929 8.5,-929\" stroke=\"black\"/>\n",
       "<text font-family=\"Times New Roman,serif\" font-size=\"14.00\" font-weight=\"bold\" text-anchor=\"start\" x=\"49.5\" y=\"-944.8\">batting</text>\n",
       "<polygon fill=\"none\" points=\"8.5,-892 8.5,-929 133.5,-929 133.5,-892 8.5,-892\" stroke=\"black\"/>\n",
       "<text font-family=\"Times New Roman,serif\" font-size=\"14.00\" font-weight=\"bold\" text-anchor=\"start\" x=\"19.5\" y=\"-907.8\">Key</text>\n",
       "<text font-family=\"Times New Roman,serif\" font-size=\"14.00\" text-anchor=\"start\" x=\"44.5\" y=\"-907.8\">  pkey </text>\n",
       "<text font-family=\"Times New Roman,serif\" font-size=\"14.00\" font-style=\"italic\" text-anchor=\"start\" x=\"83.5\" y=\"-907.8\">int</text>\n",
       "<text font-family=\"Times New Roman,serif\" font-size=\"14.00\" text-anchor=\"start\" x=\"99.5\" y=\"-907.8\"> </text>\n",
       "<polygon fill=\"none\" points=\"8.5,-855 8.5,-892 133.5,-892 133.5,-855 8.5,-855\" stroke=\"black\"/>\n",
       "<text font-family=\"Times New Roman,serif\" font-size=\"14.00\" text-anchor=\"start\" x=\"19.5\" y=\"-870.8\">playerID </text>\n",
       "<text font-family=\"Times New Roman,serif\" font-size=\"14.00\" font-style=\"italic\" text-anchor=\"start\" x=\"71.5\" y=\"-870.8\">String</text>\n",
       "<text font-family=\"Times New Roman,serif\" font-size=\"14.00\" text-anchor=\"start\" x=\"107.5\" y=\"-870.8\"> </text>\n",
       "<polygon fill=\"none\" points=\"8.5,-818 8.5,-855 133.5,-855 133.5,-818 8.5,-818\" stroke=\"black\"/>\n",
       "<text font-family=\"Times New Roman,serif\" font-size=\"14.00\" text-anchor=\"start\" x=\"19.5\" y=\"-833.8\">yearID </text>\n",
       "<text font-family=\"Times New Roman,serif\" font-size=\"14.00\" font-style=\"italic\" text-anchor=\"start\" x=\"61.5\" y=\"-833.8\">int</text>\n",
       "<text font-family=\"Times New Roman,serif\" font-size=\"14.00\" text-anchor=\"start\" x=\"77.5\" y=\"-833.8\"> </text>\n",
       "<polygon fill=\"none\" points=\"8.5,-781 8.5,-818 133.5,-818 133.5,-781 8.5,-781\" stroke=\"black\"/>\n",
       "<text font-family=\"Times New Roman,serif\" font-size=\"14.00\" text-anchor=\"start\" x=\"19.5\" y=\"-796.8\">stint </text>\n",
       "<text font-family=\"Times New Roman,serif\" font-size=\"14.00\" font-style=\"italic\" text-anchor=\"start\" x=\"47.5\" y=\"-796.8\">long</text>\n",
       "<text font-family=\"Times New Roman,serif\" font-size=\"14.00\" text-anchor=\"start\" x=\"73.5\" y=\"-796.8\"> </text>\n",
       "<polygon fill=\"none\" points=\"8.5,-744 8.5,-781 133.5,-781 133.5,-744 8.5,-744\" stroke=\"black\"/>\n",
       "<text font-family=\"Times New Roman,serif\" font-size=\"14.00\" text-anchor=\"start\" x=\"19.5\" y=\"-759.8\">teamID </text>\n",
       "<text font-family=\"Times New Roman,serif\" font-size=\"14.00\" font-style=\"italic\" text-anchor=\"start\" x=\"64.5\" y=\"-759.8\">String</text>\n",
       "<text font-family=\"Times New Roman,serif\" font-size=\"14.00\" text-anchor=\"start\" x=\"100.5\" y=\"-759.8\"> </text>\n",
       "<polygon fill=\"none\" points=\"8.5,-707 8.5,-744 133.5,-744 133.5,-707 8.5,-707\" stroke=\"black\"/>\n",
       "<text font-family=\"Times New Roman,serif\" font-size=\"14.00\" text-anchor=\"start\" x=\"19.5\" y=\"-722.8\">lgID </text>\n",
       "<text font-family=\"Times New Roman,serif\" font-size=\"14.00\" font-style=\"italic\" text-anchor=\"start\" x=\"47.5\" y=\"-722.8\">String</text>\n",
       "<text font-family=\"Times New Roman,serif\" font-size=\"14.00\" text-anchor=\"start\" x=\"83.5\" y=\"-722.8\"> </text>\n",
       "<polygon fill=\"none\" points=\"8.5,-670 8.5,-707 133.5,-707 133.5,-670 8.5,-670\" stroke=\"black\"/>\n",
       "<text font-family=\"Times New Roman,serif\" font-size=\"14.00\" text-anchor=\"start\" x=\"19.5\" y=\"-685.8\">G </text>\n",
       "<text font-family=\"Times New Roman,serif\" font-size=\"14.00\" font-style=\"italic\" text-anchor=\"start\" x=\"34.5\" y=\"-685.8\">long</text>\n",
       "<text font-family=\"Times New Roman,serif\" font-size=\"14.00\" text-anchor=\"start\" x=\"60.5\" y=\"-685.8\"> </text>\n",
       "<polygon fill=\"none\" points=\"8.5,-633 8.5,-670 133.5,-670 133.5,-633 8.5,-633\" stroke=\"black\"/>\n",
       "<text font-family=\"Times New Roman,serif\" font-size=\"14.00\" text-anchor=\"start\" x=\"19.5\" y=\"-648.8\">AB </text>\n",
       "<text font-family=\"Times New Roman,serif\" font-size=\"14.00\" font-style=\"italic\" text-anchor=\"start\" x=\"42.5\" y=\"-648.8\">long</text>\n",
       "<text font-family=\"Times New Roman,serif\" font-size=\"14.00\" text-anchor=\"start\" x=\"68.5\" y=\"-648.8\"> </text>\n",
       "<polygon fill=\"none\" points=\"8.5,-596 8.5,-633 133.5,-633 133.5,-596 8.5,-596\" stroke=\"black\"/>\n",
       "<text font-family=\"Times New Roman,serif\" font-size=\"14.00\" text-anchor=\"start\" x=\"19.5\" y=\"-611.8\">R </text>\n",
       "<text font-family=\"Times New Roman,serif\" font-size=\"14.00\" font-style=\"italic\" text-anchor=\"start\" x=\"33.5\" y=\"-611.8\">long</text>\n",
       "<text font-family=\"Times New Roman,serif\" font-size=\"14.00\" text-anchor=\"start\" x=\"59.5\" y=\"-611.8\"> </text>\n",
       "<polygon fill=\"none\" points=\"8.5,-559 8.5,-596 133.5,-596 133.5,-559 8.5,-559\" stroke=\"black\"/>\n",
       "<text font-family=\"Times New Roman,serif\" font-size=\"14.00\" text-anchor=\"start\" x=\"19.5\" y=\"-574.8\">H </text>\n",
       "<text font-family=\"Times New Roman,serif\" font-size=\"14.00\" font-style=\"italic\" text-anchor=\"start\" x=\"33.5\" y=\"-574.8\">long</text>\n",
       "<text font-family=\"Times New Roman,serif\" font-size=\"14.00\" text-anchor=\"start\" x=\"59.5\" y=\"-574.8\"> </text>\n",
       "<polygon fill=\"none\" points=\"8.5,-522 8.5,-559 133.5,-559 133.5,-522 8.5,-522\" stroke=\"black\"/>\n",
       "<text font-family=\"Times New Roman,serif\" font-size=\"14.00\" text-anchor=\"start\" x=\"19.5\" y=\"-537.8\">2B </text>\n",
       "<text font-family=\"Times New Roman,serif\" font-size=\"14.00\" font-style=\"italic\" text-anchor=\"start\" x=\"39.5\" y=\"-537.8\">long</text>\n",
       "<text font-family=\"Times New Roman,serif\" font-size=\"14.00\" text-anchor=\"start\" x=\"65.5\" y=\"-537.8\"> </text>\n",
       "<polygon fill=\"none\" points=\"8.5,-485 8.5,-522 133.5,-522 133.5,-485 8.5,-485\" stroke=\"black\"/>\n",
       "<text font-family=\"Times New Roman,serif\" font-size=\"14.00\" text-anchor=\"start\" x=\"19.5\" y=\"-500.8\">3B </text>\n",
       "<text font-family=\"Times New Roman,serif\" font-size=\"14.00\" font-style=\"italic\" text-anchor=\"start\" x=\"39.5\" y=\"-500.8\">long</text>\n",
       "<text font-family=\"Times New Roman,serif\" font-size=\"14.00\" text-anchor=\"start\" x=\"65.5\" y=\"-500.8\"> </text>\n",
       "<polygon fill=\"none\" points=\"8.5,-448 8.5,-485 133.5,-485 133.5,-448 8.5,-448\" stroke=\"black\"/>\n",
       "<text font-family=\"Times New Roman,serif\" font-size=\"14.00\" text-anchor=\"start\" x=\"19.5\" y=\"-463.8\">HR </text>\n",
       "<text font-family=\"Times New Roman,serif\" font-size=\"14.00\" font-style=\"italic\" text-anchor=\"start\" x=\"43.5\" y=\"-463.8\">long</text>\n",
       "<text font-family=\"Times New Roman,serif\" font-size=\"14.00\" text-anchor=\"start\" x=\"69.5\" y=\"-463.8\"> </text>\n",
       "<polygon fill=\"none\" points=\"8.5,-411 8.5,-448 133.5,-448 133.5,-411 8.5,-411\" stroke=\"black\"/>\n",
       "<text font-family=\"Times New Roman,serif\" font-size=\"14.00\" text-anchor=\"start\" x=\"19.5\" y=\"-426.8\">RBI </text>\n",
       "<text font-family=\"Times New Roman,serif\" font-size=\"14.00\" font-style=\"italic\" text-anchor=\"start\" x=\"47.5\" y=\"-426.8\">long</text>\n",
       "<text font-family=\"Times New Roman,serif\" font-size=\"14.00\" text-anchor=\"start\" x=\"73.5\" y=\"-426.8\"> </text>\n",
       "<polygon fill=\"none\" points=\"8.5,-374 8.5,-411 133.5,-411 133.5,-374 8.5,-374\" stroke=\"black\"/>\n",
       "<text font-family=\"Times New Roman,serif\" font-size=\"14.00\" text-anchor=\"start\" x=\"19.5\" y=\"-389.8\">SB </text>\n",
       "<text font-family=\"Times New Roman,serif\" font-size=\"14.00\" font-style=\"italic\" text-anchor=\"start\" x=\"41.5\" y=\"-389.8\">long</text>\n",
       "<text font-family=\"Times New Roman,serif\" font-size=\"14.00\" text-anchor=\"start\" x=\"67.5\" y=\"-389.8\"> </text>\n",
       "<polygon fill=\"none\" points=\"8.5,-337 8.5,-374 133.5,-374 133.5,-337 8.5,-337\" stroke=\"black\"/>\n",
       "<text font-family=\"Times New Roman,serif\" font-size=\"14.00\" text-anchor=\"start\" x=\"19.5\" y=\"-352.8\">CS </text>\n",
       "<text font-family=\"Times New Roman,serif\" font-size=\"14.00\" font-style=\"italic\" text-anchor=\"start\" x=\"41.5\" y=\"-352.8\">long</text>\n",
       "<text font-family=\"Times New Roman,serif\" font-size=\"14.00\" text-anchor=\"start\" x=\"67.5\" y=\"-352.8\"> </text>\n",
       "<polygon fill=\"none\" points=\"8.5,-300 8.5,-337 133.5,-337 133.5,-300 8.5,-300\" stroke=\"black\"/>\n",
       "<text font-family=\"Times New Roman,serif\" font-size=\"14.00\" text-anchor=\"start\" x=\"19.5\" y=\"-315.8\">BB </text>\n",
       "<text font-family=\"Times New Roman,serif\" font-size=\"14.00\" font-style=\"italic\" text-anchor=\"start\" x=\"41.5\" y=\"-315.8\">long</text>\n",
       "<text font-family=\"Times New Roman,serif\" font-size=\"14.00\" text-anchor=\"start\" x=\"67.5\" y=\"-315.8\"> </text>\n",
       "<polygon fill=\"none\" points=\"8.5,-263 8.5,-300 133.5,-300 133.5,-263 8.5,-263\" stroke=\"black\"/>\n",
       "<text font-family=\"Times New Roman,serif\" font-size=\"14.00\" text-anchor=\"start\" x=\"19.5\" y=\"-278.8\">SO </text>\n",
       "<text font-family=\"Times New Roman,serif\" font-size=\"14.00\" font-style=\"italic\" text-anchor=\"start\" x=\"42.5\" y=\"-278.8\">long</text>\n",
       "<text font-family=\"Times New Roman,serif\" font-size=\"14.00\" text-anchor=\"start\" x=\"68.5\" y=\"-278.8\"> </text>\n",
       "<polygon fill=\"none\" points=\"8.5,-226 8.5,-263 133.5,-263 133.5,-226 8.5,-226\" stroke=\"black\"/>\n",
       "<text font-family=\"Times New Roman,serif\" font-size=\"14.00\" text-anchor=\"start\" x=\"19.5\" y=\"-241.8\">IBB </text>\n",
       "<text font-family=\"Times New Roman,serif\" font-size=\"14.00\" font-style=\"italic\" text-anchor=\"start\" x=\"46.5\" y=\"-241.8\">long</text>\n",
       "<text font-family=\"Times New Roman,serif\" font-size=\"14.00\" text-anchor=\"start\" x=\"72.5\" y=\"-241.8\"> </text>\n",
       "<polygon fill=\"none\" points=\"8.5,-189 8.5,-226 133.5,-226 133.5,-189 8.5,-189\" stroke=\"black\"/>\n",
       "<text font-family=\"Times New Roman,serif\" font-size=\"14.00\" text-anchor=\"start\" x=\"19.5\" y=\"-204.8\">HBP </text>\n",
       "<text font-family=\"Times New Roman,serif\" font-size=\"14.00\" font-style=\"italic\" text-anchor=\"start\" x=\"50.5\" y=\"-204.8\">long</text>\n",
       "<text font-family=\"Times New Roman,serif\" font-size=\"14.00\" text-anchor=\"start\" x=\"76.5\" y=\"-204.8\"> </text>\n",
       "<polygon fill=\"none\" points=\"8.5,-152 8.5,-189 133.5,-189 133.5,-152 8.5,-152\" stroke=\"black\"/>\n",
       "<text font-family=\"Times New Roman,serif\" font-size=\"14.00\" text-anchor=\"start\" x=\"19.5\" y=\"-167.8\">SH </text>\n",
       "<text font-family=\"Times New Roman,serif\" font-size=\"14.00\" font-style=\"italic\" text-anchor=\"start\" x=\"41.5\" y=\"-167.8\">long</text>\n",
       "<text font-family=\"Times New Roman,serif\" font-size=\"14.00\" text-anchor=\"start\" x=\"67.5\" y=\"-167.8\"> </text>\n",
       "<polygon fill=\"none\" points=\"8.5,-115 8.5,-152 133.5,-152 133.5,-115 8.5,-115\" stroke=\"black\"/>\n",
       "<text font-family=\"Times New Roman,serif\" font-size=\"14.00\" text-anchor=\"start\" x=\"19.5\" y=\"-130.8\">SF </text>\n",
       "<text font-family=\"Times New Roman,serif\" font-size=\"14.00\" font-style=\"italic\" text-anchor=\"start\" x=\"40.5\" y=\"-130.8\">long</text>\n",
       "<text font-family=\"Times New Roman,serif\" font-size=\"14.00\" text-anchor=\"start\" x=\"66.5\" y=\"-130.8\"> </text>\n",
       "<polygon fill=\"none\" points=\"8.5,-78 8.5,-115 133.5,-115 133.5,-78 8.5,-78\" stroke=\"black\"/>\n",
       "<text font-family=\"Times New Roman,serif\" font-size=\"14.00\" text-anchor=\"start\" x=\"19.5\" y=\"-93.8\">GIDP </text>\n",
       "<text font-family=\"Times New Roman,serif\" font-size=\"14.00\" font-style=\"italic\" text-anchor=\"start\" x=\"56.5\" y=\"-93.8\">long</text>\n",
       "<text font-family=\"Times New Roman,serif\" font-size=\"14.00\" text-anchor=\"start\" x=\"82.5\" y=\"-93.8\"> </text>\n",
       "<polygon fill=\"none\" points=\"8.5,-41 8.5,-78 133.5,-78 133.5,-41 8.5,-41\" stroke=\"black\"/>\n",
       "<text font-family=\"Times New Roman,serif\" font-size=\"14.00\" text-anchor=\"start\" x=\"19.5\" y=\"-56.8\">teamName </text>\n",
       "<text font-family=\"Times New Roman,serif\" font-size=\"14.00\" font-style=\"italic\" text-anchor=\"start\" x=\"82.5\" y=\"-56.8\">String</text>\n",
       "<text font-family=\"Times New Roman,serif\" font-size=\"14.00\" text-anchor=\"start\" x=\"118.5\" y=\"-56.8\"> </text>\n",
       "<polygon fill=\"none\" points=\"8.5,-4 8.5,-41 133.5,-41 133.5,-4 8.5,-4\" stroke=\"black\"/>\n",
       "<text font-family=\"Times New Roman,serif\" font-size=\"14.00\" text-anchor=\"start\" x=\"19.5\" y=\"-19.8\">CareerYear </text>\n",
       "<text font-family=\"Times New Roman,serif\" font-size=\"14.00\" font-style=\"italic\" text-anchor=\"start\" x=\"86.5\" y=\"-19.8\">int</text>\n",
       "<text font-family=\"Times New Roman,serif\" font-size=\"14.00\" text-anchor=\"start\" x=\"102.5\" y=\"-19.8\"> </text>\n",
       "</g>\n",
       "<!-- players -->\n",
       "<g class=\"node\" id=\"node2\"><title>players</title>\n",
       "<polygon fill=\"none\" points=\"303,-651 303,-688 451,-688 451,-651 303,-651\" stroke=\"black\"/>\n",
       "<text font-family=\"Times New Roman,serif\" font-size=\"14.00\" font-weight=\"bold\" text-anchor=\"start\" x=\"354.5\" y=\"-666.8\">players</text>\n",
       "<polygon fill=\"none\" points=\"303,-614 303,-651 451,-651 451,-614 303,-614\" stroke=\"black\"/>\n",
       "<text font-family=\"Times New Roman,serif\" font-size=\"14.00\" font-weight=\"bold\" text-anchor=\"start\" x=\"314\" y=\"-629.8\">Key</text>\n",
       "<text font-family=\"Times New Roman,serif\" font-size=\"14.00\" text-anchor=\"start\" x=\"339\" y=\"-629.8\">  playerID </text>\n",
       "<text font-family=\"Times New Roman,serif\" font-size=\"14.00\" font-style=\"italic\" text-anchor=\"start\" x=\"399\" y=\"-629.8\">String</text>\n",
       "<text font-family=\"Times New Roman,serif\" font-size=\"14.00\" text-anchor=\"start\" x=\"435\" y=\"-629.8\"> </text>\n",
       "<polygon fill=\"none\" points=\"303,-577 303,-614 451,-614 451,-577 303,-577\" stroke=\"black\"/>\n",
       "<text font-family=\"Times New Roman,serif\" font-size=\"14.00\" text-anchor=\"start\" x=\"314\" y=\"-592.8\">birthYear </text>\n",
       "<text font-family=\"Times New Roman,serif\" font-size=\"14.00\" font-style=\"italic\" text-anchor=\"start\" x=\"370\" y=\"-592.8\">long</text>\n",
       "<text font-family=\"Times New Roman,serif\" font-size=\"14.00\" text-anchor=\"start\" x=\"396\" y=\"-592.8\"> </text>\n",
       "<polygon fill=\"none\" points=\"303,-540 303,-577 451,-577 451,-540 303,-540\" stroke=\"black\"/>\n",
       "<text font-family=\"Times New Roman,serif\" font-size=\"14.00\" text-anchor=\"start\" x=\"314\" y=\"-555.8\">nameFirst </text>\n",
       "<text font-family=\"Times New Roman,serif\" font-size=\"14.00\" font-style=\"italic\" text-anchor=\"start\" x=\"373\" y=\"-555.8\">String</text>\n",
       "<text font-family=\"Times New Roman,serif\" font-size=\"14.00\" text-anchor=\"start\" x=\"409\" y=\"-555.8\"> </text>\n",
       "<polygon fill=\"none\" points=\"303,-503 303,-540 451,-540 451,-503 303,-503\" stroke=\"black\"/>\n",
       "<text font-family=\"Times New Roman,serif\" font-size=\"14.00\" text-anchor=\"start\" x=\"314\" y=\"-518.8\">nameLast </text>\n",
       "<text font-family=\"Times New Roman,serif\" font-size=\"14.00\" font-style=\"italic\" text-anchor=\"start\" x=\"372\" y=\"-518.8\">String</text>\n",
       "<text font-family=\"Times New Roman,serif\" font-size=\"14.00\" text-anchor=\"start\" x=\"408\" y=\"-518.8\"> </text>\n",
       "<polygon fill=\"none\" points=\"303,-466 303,-503 451,-503 451,-466 303,-466\" stroke=\"black\"/>\n",
       "<text font-family=\"Times New Roman,serif\" font-size=\"14.00\" text-anchor=\"start\" x=\"314\" y=\"-481.8\">FullName </text>\n",
       "<text font-family=\"Times New Roman,serif\" font-size=\"14.00\" font-style=\"italic\" text-anchor=\"start\" x=\"372\" y=\"-481.8\">String</text>\n",
       "<text font-family=\"Times New Roman,serif\" font-size=\"14.00\" text-anchor=\"start\" x=\"408\" y=\"-481.8\"> </text>\n",
       "<polygon fill=\"none\" points=\"303,-429 303,-466 451,-466 451,-429 303,-429\" stroke=\"black\"/>\n",
       "<text font-family=\"Times New Roman,serif\" font-size=\"14.00\" text-anchor=\"start\" x=\"314\" y=\"-444.8\">nameGiven </text>\n",
       "<text font-family=\"Times New Roman,serif\" font-size=\"14.00\" font-style=\"italic\" text-anchor=\"start\" x=\"381\" y=\"-444.8\">String</text>\n",
       "<text font-family=\"Times New Roman,serif\" font-size=\"14.00\" text-anchor=\"start\" x=\"417\" y=\"-444.8\"> </text>\n",
       "<polygon fill=\"none\" points=\"303,-392 303,-429 451,-429 451,-392 303,-392\" stroke=\"black\"/>\n",
       "<text font-family=\"Times New Roman,serif\" font-size=\"14.00\" text-anchor=\"start\" x=\"314\" y=\"-407.8\">bats </text>\n",
       "<text font-family=\"Times New Roman,serif\" font-size=\"14.00\" font-style=\"italic\" text-anchor=\"start\" x=\"342\" y=\"-407.8\">String</text>\n",
       "<text font-family=\"Times New Roman,serif\" font-size=\"14.00\" text-anchor=\"start\" x=\"378\" y=\"-407.8\"> </text>\n",
       "<polygon fill=\"none\" points=\"303,-355 303,-392 451,-392 451,-355 303,-355\" stroke=\"black\"/>\n",
       "<text font-family=\"Times New Roman,serif\" font-size=\"14.00\" text-anchor=\"start\" x=\"314\" y=\"-370.8\">throws </text>\n",
       "<text font-family=\"Times New Roman,serif\" font-size=\"14.00\" font-style=\"italic\" text-anchor=\"start\" x=\"357\" y=\"-370.8\">String</text>\n",
       "<text font-family=\"Times New Roman,serif\" font-size=\"14.00\" text-anchor=\"start\" x=\"393\" y=\"-370.8\"> </text>\n",
       "<polygon fill=\"none\" points=\"303,-318 303,-355 451,-355 451,-318 303,-318\" stroke=\"black\"/>\n",
       "<text font-family=\"Times New Roman,serif\" font-size=\"14.00\" text-anchor=\"start\" x=\"314\" y=\"-333.8\">debut </text>\n",
       "<text font-family=\"Times New Roman,serif\" font-size=\"14.00\" font-style=\"italic\" text-anchor=\"start\" x=\"350\" y=\"-333.8\">LocalDate</text>\n",
       "<text font-family=\"Times New Roman,serif\" font-size=\"14.00\" text-anchor=\"start\" x=\"411\" y=\"-333.8\"> </text>\n",
       "<polygon fill=\"none\" points=\"303,-281 303,-318 451,-318 451,-281 303,-281\" stroke=\"black\"/>\n",
       "<text font-family=\"Times New Roman,serif\" font-size=\"14.00\" text-anchor=\"start\" x=\"314\" y=\"-296.8\">finalGame </text>\n",
       "<text font-family=\"Times New Roman,serif\" font-size=\"14.00\" font-style=\"italic\" text-anchor=\"start\" x=\"375\" y=\"-296.8\">LocalDate</text>\n",
       "<text font-family=\"Times New Roman,serif\" font-size=\"14.00\" text-anchor=\"start\" x=\"436\" y=\"-296.8\"> </text>\n",
       "</g>\n",
       "<!-- batting&#45;&gt;players -->\n",
       "<g class=\"edge\" id=\"edge1\"><title>batting-&gt;players</title>\n",
       "<path d=\"M141.358,-485C183.882,-485 238.676,-485 284.619,-485\" fill=\"none\" stroke=\"black\"/>\n",
       "<polygon fill=\"black\" points=\"284.882,-488.5 294.882,-485 284.882,-481.5 284.882,-488.5\" stroke=\"black\"/>\n",
       "<text font-family=\"Times New Roman,serif\" font-size=\"14.00\" text-anchor=\"middle\" x=\"218\" y=\"-488.8\">playerID → playerID</text>\n",
       "</g>\n",
       "</g>\n",
       "</svg>"
      ],
      "text/plain": [
       "<IPython.core.display.SVG object>"
      ]
     },
     "execution_count": 36,
     "metadata": {},
     "output_type": "execute_result"
    }
   ],
   "source": [
    "cube.schema"
   ]
  },
  {
   "cell_type": "markdown",
   "metadata": {},
   "source": [
    "Let us create some measures"
   ]
  },
  {
   "cell_type": "code",
   "execution_count": 37,
   "metadata": {},
   "outputs": [],
   "source": [
    "m[\"Games\"]=tt.agg.sum(Batting_Store[\"G\"])\n",
    "m[\"Latest Season\"]=tt.agg.max(Batting_Store[\"yearID\"])\n",
    "m[\"Career Length\"] =tt.date_diff(Player_Store[\"debut\"],Player_Store[\"finalGame\"], unit='years')\n",
    "m[\"BirthYear\"]=tt.agg.single_value(Player_Store[\"birthYear\"])\n",
    " \n",
    "m[\"PlayerAge\"]=m[\"Latest Season\"]-m[\"BirthYear\"]\n",
    "\n",
    " \n",
    "m[\"HR\"] = tt.agg.sum(Batting_Store[\"HR\"])\n",
    "m[\"PlayerTotalHRYear\"] = tt.agg.sum(m[\"HR\"], scope=tt.scope.cumulative(l[\"yearID\"])) \n",
    "\n",
    "\n",
    " \n",
    "m[\"Hits\"] = tt.agg.sum(Batting_Store[\"H\"])\n",
    "m[\"PlayerTotalHitsYear\"] = tt.agg.sum(m[\"Hits\"], scope=tt.scope.cumulative(l[\"yearID\"])) \n",
    "\n",
    "\n",
    "m[\"Homeruns Per Game\"]=m[\"HR\"]/m[\"Games\"]\n",
    "m[\"Hits Per Game\"]=m[\"Hits\"]/m[\"Games\"]\n",
    "\n",
    " \n",
    "m[\"CareerHR\"] = tt.agg.sum(m[\"HR\"], scope=tt.scope.cumulative(l[\"CareerYear\"]))   \n",
    "m[\"CareerHits\"] = tt.agg.sum(m[\"Hits\"], scope=tt.scope.cumulative(l[\"CareerYear\"])) \n",
    "\n",
    "m[\"500 Home Runs\"] = 500\n",
    "m[\"2020 Season Length\"] =60\n",
    "\n",
    "m[\"MedianHR\"]=tt.agg.mean(m[\"Homeruns Per Game\"], scope=tt.scope.origin(l[\"playerID\"]))\n",
    "m[\"Projected HR\"]= tt.round(m[\"2020 Season Length\"]*m[\"MedianHR\"])\n",
    "m[\"Projected End Of Season Career HRs\"]=m[\"PlayerTotalHRYear\"] +m[\"Projected HR\"]\n",
    "\n",
    "m[\"MedianHits\"]=tt.agg.mean(m[\"Hits Per Game\"], scope=tt.scope.origin(l[\"playerID\"]))\n",
    "m[\"Projected Hits\"]= tt.round(tt.round(m[\"2020 Season Length\"]*m[\"MedianHits\"]))\n",
    "m[\"Projected End Of Season Career Hits\"]=m[\"PlayerTotalHitsYear\"] +m[\"Projected Hits\"]"
   ]
  },
  {
   "cell_type": "code",
   "execution_count": 38,
   "metadata": {},
   "outputs": [],
   "source": [
    "SeasonAtBats =tt.agg.single_value(Batting_Store[\"AB\"])\n",
    "m[\"PlayerSeasonAtBats\"] =tt.agg.single_value(SeasonAtBats, scope=tt.scope.origin(l[\"playerID\"]))"
   ]
  },
  {
   "cell_type": "code",
   "execution_count": 39,
   "metadata": {},
   "outputs": [
    {
     "data": {
      "application/json": {
       "Dimensions": {
        "Hierarchies": {
         "Career Year": [
          "CareerYear"
         ],
         "Player": [
          "playerID",
          "FullName"
         ],
         "Team": [
          "teamName"
         ],
         "Year": [
          "yearID"
         ]
        }
       },
       "Measures": {
        "2020 Season Length": {
         "formatter": "INT[#,###]",
         "visible": true
        },
        "500 Home Runs": {
         "formatter": "INT[#,###]",
         "visible": true
        },
        "BirthYear": {
         "formatter": "INT[#,###]",
         "visible": true
        },
        "Career Length": {
         "formatter": "INT[#,###]",
         "visible": true
        },
        "CareerHR": {
         "formatter": "INT[#,###]",
         "visible": true
        },
        "CareerHits": {
         "formatter": "INT[#,###]",
         "visible": true
        },
        "Games": {
         "formatter": "INT[#,###]",
         "visible": true
        },
        "HR": {
         "formatter": "INT[#,###]",
         "visible": true
        },
        "Hits": {
         "formatter": "INT[#,###]",
         "visible": true
        },
        "Hits Per Game": {
         "formatter": "DOUBLE[#,###.00]",
         "visible": true
        },
        "Homeruns Per Game": {
         "formatter": "DOUBLE[#,###.00]",
         "visible": true
        },
        "Latest Season": {
         "formatter": "INT[#,###]",
         "visible": true
        },
        "MedianHR": {
         "formatter": "DOUBLE[#,###.00]",
         "visible": true
        },
        "MedianHits": {
         "formatter": "DOUBLE[#,###.00]",
         "visible": true
        },
        "PlayerAge": {
         "formatter": "INT[#,###]",
         "visible": true
        },
        "PlayerSeasonAtBats": {
         "formatter": "INT[#,###]",
         "visible": true
        },
        "PlayerTotalHRYear": {
         "formatter": "INT[#,###]",
         "visible": true
        },
        "PlayerTotalHitsYear": {
         "formatter": "INT[#,###]",
         "visible": true
        },
        "Projected End Of Season Career HRs": {
         "formatter": "INT[#,###]",
         "visible": true
        },
        "Projected End Of Season Career Hits": {
         "formatter": "INT[#,###]",
         "visible": true
        },
        "Projected HR": {
         "formatter": "INT[#,###]",
         "visible": true
        },
        "Projected Hits": {
         "formatter": "INT[#,###]",
         "visible": true
        },
        "contributors.COUNT": {
         "formatter": null,
         "visible": true
        }
       }
      },
      "text/html": [
       "<ul>\n",
       "<li>Stats\n",
       "  <ul>\n",
       "  <li>Dimensions\n",
       "    <ul>\n",
       "    <li>Hierarchies\n",
       "      <ul>\n",
       "      <li>Career Year\n",
       "        <ol>\n",
       "        <li>CareerYear</li>\n",
       "        </ol>      </li>\n",
       "      <li>Player\n",
       "        <ol>\n",
       "        <li>playerID</li>\n",
       "        <li>FullName</li>\n",
       "        </ol>      </li>\n",
       "      <li>Team\n",
       "        <ol>\n",
       "        <li>teamName</li>\n",
       "        </ol>      </li>\n",
       "      <li>Year\n",
       "        <ol>\n",
       "        <li>yearID</li>\n",
       "        </ol>      </li>\n",
       "      </ul>\n",
       "    </li>\n",
       "    </ul>\n",
       "  </li>\n",
       "  <li>Measures\n",
       "    <ul>\n",
       "    <li>2020 Season Length\n",
       "      <ul>\n",
       "      <li>formatter: INT[#,###]</li>\n",
       "      <li>visible: True</li>\n",
       "      </ul>\n",
       "    </li>\n",
       "    <li>500 Home Runs\n",
       "      <ul>\n",
       "      <li>formatter: INT[#,###]</li>\n",
       "      <li>visible: True</li>\n",
       "      </ul>\n",
       "    </li>\n",
       "    <li>BirthYear\n",
       "      <ul>\n",
       "      <li>formatter: INT[#,###]</li>\n",
       "      <li>visible: True</li>\n",
       "      </ul>\n",
       "    </li>\n",
       "    <li>Career Length\n",
       "      <ul>\n",
       "      <li>formatter: INT[#,###]</li>\n",
       "      <li>visible: True</li>\n",
       "      </ul>\n",
       "    </li>\n",
       "    <li>CareerHR\n",
       "      <ul>\n",
       "      <li>formatter: INT[#,###]</li>\n",
       "      <li>visible: True</li>\n",
       "      </ul>\n",
       "    </li>\n",
       "    <li>CareerHits\n",
       "      <ul>\n",
       "      <li>formatter: INT[#,###]</li>\n",
       "      <li>visible: True</li>\n",
       "      </ul>\n",
       "    </li>\n",
       "    <li>Games\n",
       "      <ul>\n",
       "      <li>formatter: INT[#,###]</li>\n",
       "      <li>visible: True</li>\n",
       "      </ul>\n",
       "    </li>\n",
       "    <li>HR\n",
       "      <ul>\n",
       "      <li>formatter: INT[#,###]</li>\n",
       "      <li>visible: True</li>\n",
       "      </ul>\n",
       "    </li>\n",
       "    <li>Hits\n",
       "      <ul>\n",
       "      <li>formatter: INT[#,###]</li>\n",
       "      <li>visible: True</li>\n",
       "      </ul>\n",
       "    </li>\n",
       "    <li>Hits Per Game\n",
       "      <ul>\n",
       "      <li>formatter: DOUBLE[#,###.00]</li>\n",
       "      <li>visible: True</li>\n",
       "      </ul>\n",
       "    </li>\n",
       "    <li>Homeruns Per Game\n",
       "      <ul>\n",
       "      <li>formatter: DOUBLE[#,###.00]</li>\n",
       "      <li>visible: True</li>\n",
       "      </ul>\n",
       "    </li>\n",
       "    <li>Latest Season\n",
       "      <ul>\n",
       "      <li>formatter: INT[#,###]</li>\n",
       "      <li>visible: True</li>\n",
       "      </ul>\n",
       "    </li>\n",
       "    <li>MedianHR\n",
       "      <ul>\n",
       "      <li>formatter: DOUBLE[#,###.00]</li>\n",
       "      <li>visible: True</li>\n",
       "      </ul>\n",
       "    </li>\n",
       "    <li>MedianHits\n",
       "      <ul>\n",
       "      <li>formatter: DOUBLE[#,###.00]</li>\n",
       "      <li>visible: True</li>\n",
       "      </ul>\n",
       "    </li>\n",
       "    <li>PlayerAge\n",
       "      <ul>\n",
       "      <li>formatter: INT[#,###]</li>\n",
       "      <li>visible: True</li>\n",
       "      </ul>\n",
       "    </li>\n",
       "    <li>PlayerSeasonAtBats\n",
       "      <ul>\n",
       "      <li>formatter: INT[#,###]</li>\n",
       "      <li>visible: True</li>\n",
       "      </ul>\n",
       "    </li>\n",
       "    <li>PlayerTotalHRYear\n",
       "      <ul>\n",
       "      <li>formatter: INT[#,###]</li>\n",
       "      <li>visible: True</li>\n",
       "      </ul>\n",
       "    </li>\n",
       "    <li>PlayerTotalHitsYear\n",
       "      <ul>\n",
       "      <li>formatter: INT[#,###]</li>\n",
       "      <li>visible: True</li>\n",
       "      </ul>\n",
       "    </li>\n",
       "    <li>Projected End Of Season Career HRs\n",
       "      <ul>\n",
       "      <li>formatter: INT[#,###]</li>\n",
       "      <li>visible: True</li>\n",
       "      </ul>\n",
       "    </li>\n",
       "    <li>Projected End Of Season Career Hits\n",
       "      <ul>\n",
       "      <li>formatter: INT[#,###]</li>\n",
       "      <li>visible: True</li>\n",
       "      </ul>\n",
       "    </li>\n",
       "    <li>Projected HR\n",
       "      <ul>\n",
       "      <li>formatter: INT[#,###]</li>\n",
       "      <li>visible: True</li>\n",
       "      </ul>\n",
       "    </li>\n",
       "    <li>Projected Hits\n",
       "      <ul>\n",
       "      <li>formatter: INT[#,###]</li>\n",
       "      <li>visible: True</li>\n",
       "      </ul>\n",
       "    </li>\n",
       "    <li>contributors.COUNT\n",
       "      <ul>\n",
       "      <li>formatter: None</li>\n",
       "      <li>visible: True</li>\n",
       "      </ul>\n",
       "    </li>\n",
       "    </ul>\n",
       "  </li>\n",
       "  </ul>\n",
       "</li>\n",
       "</ul>\n"
      ],
      "text/plain": [
       "<atoti.cube.Cube at 0x2700bc8a108>"
      ]
     },
     "execution_count": 39,
     "metadata": {
      "application/json": {
       "expanded": false,
       "root": "Stats"
      }
     },
     "output_type": "execute_result"
    }
   ],
   "source": [
    "cube\n"
   ]
  },
  {
   "cell_type": "markdown",
   "metadata": {},
   "source": [
    "## The Fun Stuff, the Analysis\n",
    "\n",
    "So let's pose a basic question: who is being impacted by the COVID shortened Baseball season of 60 rather than 162 games?  Well, certainly everyone as a missed game is an opportunity to put something in the book for the future and even a non-Hall of Famer would like to get one more hit or one more homerun in their career.  However, certainly veteran players, which we will define as 10 years in the league, have less of a career remainder left to make up for lost 2020 opportunities\n",
    "\n",
    "Sp lets look at players who have played over 10 years and are closing in on the respected 500 Home Run Mark "
   ]
  },
  {
   "cell_type": "code",
   "execution_count": 41,
   "metadata": {
    "atoti": {
     "state": {
      "name": "Players over 10 Years in League with over 200 Homer Runs",
      "type": "container",
      "value": {
       "body": {
        "configuration": {
         "mapping": {
          "columnValues": [
           "[Measures].[PlayerTotalHRYear]"
          ],
          "horizontalSubplots": [],
          "lineValues": [
           "[Measures].[500 Home Runs]"
          ],
          "verticalSubplots": [],
          "xAxis": [
           "[Hierarchies].[Player].[FullName]",
           "[Hierarchies].[Year].[yearID]"
          ]
         },
         "style": {
          "colors": {
           "500 Home Runs": "#ff0000",
           "PlayerTotalHRYear": "#4e79a7"
          }
         },
         "type": "plotly-clustered-column-and-line-chart"
        },
        "query": {
         "mdx": "SELECT NON EMPTY Crossjoin([Hierarchies].[Player].[FullName].Members, [Hierarchies].[Year].[yearID].Members) ON ROWS, NON EMPTY {[Measures].[PlayerTotalHRYear], [Measures].[500 Home Runs]} ON COLUMNS FROM (SELECT Filter([Hierarchies].[Year].[yearID].Members, [Measures].[Latest Season] = 2019) ON COLUMNS FROM (SELECT Filter([Hierarchies].[Player].[playerID].Members, [Measures].[HR] > 200) ON COLUMNS FROM (SELECT Filter([Hierarchies].[Player].[playerID].Members, [Measures].[Career Length] > 10) ON COLUMNS FROM [Stats]))) CELL PROPERTIES VALUE, FORMATTED_VALUE, BACK_COLOR, FORE_COLOR, FONT_FLAGS",
         "serverUrl": "",
         "updateMode": "once"
        }
       },
       "containerKey": "chart",
       "showTitleBar": false,
       "style": {}
      }
     }
    }
   },
   "outputs": [
    {
     "data": {
      "application/vnd.atoti.v0+json": {
       "cube": "Stats",
       "name": "Players over 10 Years in League with over 200 Homer Runs",
       "session": "Unnamed"
      },
      "text/plain": [
       "Install and enable the atoti JupyterLab extension to see this widget."
      ]
     },
     "metadata": {},
     "output_type": "display_data"
    }
   ],
   "source": [
    "cube.visualize(\"Players over 10 Years in League with over 200 Homer Runs\")"
   ]
  },
  {
   "cell_type": "markdown",
   "metadata": {},
   "source": [
    "Put's into perspective how tough getting 500 Home Runs is.  Pujol is already well past the post, Miguel Cabera is in striking distance at 477. Nelson Cruz (age 40) and Edwin Encarnación (age 37)  have a steep climb to get there and certainly losing 60% of their potential at bats this year  may put it out of reach.\n",
    "\n",
    "Let us now look at hits, focusing in on the mythical 3000 mark"
   ]
  },
  {
   "cell_type": "code",
   "execution_count": 42,
   "metadata": {
    "atoti": {
     "state": {
      "name": "Players over 10 Years in League with in top 25% of Career Hits",
      "type": "container",
      "value": {
       "body": {
        "configuration": {
         "mapping": {
          "horizontalSubplots": [],
          "stackBy": [],
          "values": [
           "[Measures].[PlayerTotalHitsYear]"
          ],
          "verticalSubplots": [],
          "xAxis": [
           "[Hierarchies].[Player].[FullName]"
          ]
         },
         "type": "plotly-stacked-column-chart"
        },
        "query": {
         "mdx": "SELECT NON EMPTY [Hierarchies].[Player].[FullName].Members ON ROWS, NON EMPTY {[Measures].[PlayerTotalHitsYear]} ON COLUMNS FROM (SELECT TopPercent(Filter([Hierarchies].[Player].Levels(1).Members, NOT IsEmpty([Measures].[PlayerTotalHitsYear])), 25, [Measures].[PlayerTotalHitsYear]) ON COLUMNS FROM (SELECT Filter([Hierarchies].[Player].[playerID].Members, [Measures].[Career Length] > 10) ON COLUMNS FROM (SELECT Filter([Hierarchies].[Player].[playerID].Members, [Measures].[Latest Season] = 2019) ON COLUMNS FROM [Stats]))) WHERE [Hierarchies].[Year].[ALL].[AllMember].[2019] CELL PROPERTIES VALUE, FORMATTED_VALUE, BACK_COLOR, FORE_COLOR, FONT_FLAGS",
         "serverUrl": "",
         "updateMode": "once"
        }
       },
       "containerKey": "chart",
       "showTitleBar": false,
       "style": {}
      }
     }
    }
   },
   "outputs": [
    {
     "data": {
      "application/vnd.atoti.v0+json": {
       "cube": "Stats",
       "name": "Players over 10 Years in League with in top 25% of Career Hits",
       "session": "Unnamed"
      },
      "text/plain": [
       "Install and enable the atoti JupyterLab extension to see this widget."
      ]
     },
     "metadata": {},
     "output_type": "display_data"
    }
   ],
   "source": [
    "cube.visualize(\"Players over 10 Years in League with in top 25% of Career Hits\")"
   ]
  },
  {
   "cell_type": "markdown",
   "metadata": {},
   "source": [
    "Suzuki has retired (he shows as his last game was last year), Pujol it in.  Cano at age 38 and 430 hits outs was facing a tough challenge.  Looking at his career hit production which is declining, the shortened 2020 season may have put is out of reach. The fact that his hit production and games played crossed last season is not a good sign."
   ]
  },
  {
   "cell_type": "code",
   "execution_count": 44,
   "metadata": {
    "atoti": {
     "state": {
      "name": "Robinson Cano Hit Production VS Career Years",
      "type": "container",
      "value": {
       "body": {
        "configuration": {
         "mapping": {
          "horizontalSubplots": [],
          "splitBy": [],
          "values": [
           "[Measures].[Hits]",
           "[Measures].[Games]"
          ],
          "verticalSubplots": [],
          "xAxis": [
           "[Hierarchies].[Career Year].[CareerYear]"
          ]
         },
         "type": "plotly-line-chart"
        },
        "query": {
         "mdx": "SELECT NON EMPTY [Hierarchies].[Career Year].[CareerYear].Members ON ROWS, NON EMPTY {[Measures].[Hits], [Measures].[Games]} ON COLUMNS FROM [Stats] WHERE [Hierarchies].[Player].[ALL].[AllMember].[canoro01].[Robinson Cano] CELL PROPERTIES VALUE, FORMATTED_VALUE, BACK_COLOR, FORE_COLOR, FONT_FLAGS",
         "serverUrl": "",
         "updateMode": "once"
        }
       },
       "containerKey": "chart",
       "showTitleBar": false,
       "style": {}
      }
     }
    }
   },
   "outputs": [
    {
     "data": {
      "application/vnd.atoti.v0+json": {
       "cube": "Stats",
       "name": "Robinson Cano Hit Production VS Career Years",
       "session": "Unnamed"
      },
      "text/plain": [
       "Install and enable the atoti JupyterLab extension to see this widget."
      ]
     },
     "metadata": {},
     "output_type": "display_data"
    }
   ],
   "source": [
    "cube.visualize(\"Robinson Cano Hit Production VS Career Years\")"
   ]
  },
  {
   "cell_type": "markdown",
   "metadata": {},
   "source": [
    "However, the most interesting is Miguel Cabera, looking at his 2019 State"
   ]
  },
  {
   "cell_type": "code",
   "execution_count": 46,
   "metadata": {
    "atoti": {
     "state": {
      "name": "Cabera End of 2019 Stats",
      "type": "container",
      "value": {
       "body": {
        "configuration": {
         "featuredValues": {
          "locations": {
           "[Hierarchies].[Player].[AllMember].[braunry02].[Ryan Braun],[Measures].[2020ProjectedHR]": {
            "title": "2020 Projected HR"
           },
           "[Hierarchies].[Player].[AllMember].[braunry02].[Ryan Braun],[Measures].[Career Length]": {
            "title": "Ryan Braun Career Length"
           },
           "[Hierarchies].[Player].[AllMember].[braunry02].[Ryan Braun],[Measures].[CareerHR]": {
            "title": " CareerHR"
           },
           "[Hierarchies].[Player].[AllMember].[braunry02].[Ryan Braun],[Measures].[PlayerTotalHRYear]": {
            "title": "Career HR"
           },
           "[Hierarchies].[Player].[AllMember].[bruceja01].[Jay Bruce],[Measures].[Career Length]": {
            "title": " Jay Bruce Career Length"
           },
           "[Hierarchies].[Player].[AllMember].[bruceja01].[Jay Bruce],[Measures].[CareerHR]": {
            "title": "CareerHR"
           },
           "[Hierarchies].[Player].[AllMember].[bruceja01].[Jay Bruce],[Measures].[PlayerTotalHRYear]": {
            "title": "Career HR"
           },
           "[Hierarchies].[Player].[AllMember].[cabremi01].[Miguel Cabrera],[Measures].[2020ProjectedHR]": {
            "title": "2020 Projected HR"
           },
           "[Hierarchies].[Player].[AllMember].[cabremi01].[Miguel Cabrera],[Measures].[2020ProjectedHits]": {
            "title": "2020 Projected Hits"
           },
           "[Hierarchies].[Player].[AllMember].[cabremi01].[Miguel Cabrera],[Measures].[Career Length]": {
            "title": "Miguel Cabrera Career Length"
           },
           "[Hierarchies].[Player].[AllMember].[cabremi01].[Miguel Cabrera],[Measures].[HR]": {
            "title": "2019 HR"
           },
           "[Hierarchies].[Player].[AllMember].[cabremi01].[Miguel Cabrera],[Measures].[Hits]": {
            "title": "2019 Hits"
           },
           "[Hierarchies].[Player].[AllMember].[cabremi01].[Miguel Cabrera],[Measures].[PlayerAge]": {
            "title": "Miguel Cabrera Age 2019"
           },
           "[Hierarchies].[Player].[AllMember].[cabremi01].[Miguel Cabrera],[Measures].[PlayerTotalHRYear]": {
            "title": "Career HR"
           },
           "[Hierarchies].[Player].[AllMember].[cabremi01].[Miguel Cabrera],[Measures].[PlayerTotalHitsYear]": {
            "title": "Total Hits To Date"
           },
           "[Hierarchies].[Player].[AllMember].[cabremi01].[Miguel Cabrera],[Measures].[Projected End Of 2020 Season HRs]": {
            "title": "Projected 2020 Season HRs"
           },
           "[Hierarchies].[Player].[AllMember].[cabremi01].[Miguel Cabrera],[Measures].[Projected End Of 2020 Season Hits]": {
            "title": "Projected End Of 2020 Season Hits"
           },
           "[Hierarchies].[Player].[AllMember].[canoro01].[Robinson Cano],[Measures].[2020ProjectedHR]": {
            "title": "2020 Projected HR"
           },
           "[Hierarchies].[Player].[AllMember].[canoro01].[Robinson Cano],[Measures].[PlayerTotalHRYear]": {
            "title": "Career HR"
           },
           "[Hierarchies].[Player].[AllMember].[choosh01].[Shin-Soo Choo],[Measures].[2020ProjectedHR]": {
            "title": "2020 Projected HR"
           },
           "[Hierarchies].[Player].[AllMember].[choosh01].[Shin-Soo Choo],[Measures].[PlayerTotalHRYear]": {
            "title": "Career HR"
           },
           "[Hierarchies].[Player].[AllMember].[cruzne02].[Nelson Cruz],[Measures].[2020ProjectedHR]": {
            "title": "2020 Projected HR"
           },
           "[Hierarchies].[Player].[AllMember].[cruzne02].[Nelson Cruz],[Measures].[PlayerTotalHRYear]": {
            "title": "Career HR"
           },
           "[Hierarchies].[Player].[AllMember].[davisch02].[Chris Davis],[Measures].[2020ProjectedHR]": {
            "title": "2020 Projected HR"
           },
           "[Hierarchies].[Player].[AllMember].[davisch02].[Chris Davis],[Measures].[PlayerTotalHRYear]": {
            "title": "Career HR"
           },
           "[Hierarchies].[Player].[AllMember].[encared01].[Edwin Encarnacion],[Measures].[PlayerTotalHRYear]": {
            "title": "Career HR"
           },
           "[Hierarchies].[Player].[AllMember].[gonzaca01].[Carlos Gonzalez],[Measures].[PlayerTotalHRYear]": {
            "title": "Career HR"
           },
           "[Hierarchies].[Player].[AllMember].[grandcu01].[Curtis Granderson],[Measures].[2020ProjectedHR]": {
            "title": "2020 Projected HR"
           },
           "[Hierarchies].[Player].[AllMember].[grandcu01].[Curtis Granderson],[Measures].[PlayerTotalHRYear]": {
            "title": "Career HR"
           },
           "[Hierarchies].[Player].[AllMember].[jonesad01].[Adam Jones],[Measures].[2020ProjectedHR]": {
            "title": "2020 Projected HR"
           },
           "[Hierarchies].[Player].[AllMember].[jonesad01].[Adam Jones],[Measures].[PlayerTotalHRYear]": {
            "title": "Career HR"
           },
           "[Hierarchies].[Player].[AllMember].[kempma01].[Matt Kemp],[Measures].[2020ProjectedHR]": {
            "title": "2020 Projected HR"
           },
           "[Hierarchies].[Player].[AllMember].[kempma01].[Matt Kemp],[Measures].[PlayerTotalHRYear]": {
            "title": "Career HR"
           },
           "[Hierarchies].[Player].[AllMember].[kinslia01].[Ian Kinsler],[Measures].[2020ProjectedHR]": {
            "title": "2020 Projected HR"
           },
           "[Hierarchies].[Player].[AllMember].[kinslia01].[Ian Kinsler],[Measures].[PlayerTotalHRYear]": {
            "title": "Career HR"
           },
           "[Hierarchies].[Player].[AllMember].[longoev01].[Evan Longoria],[Measures].[2020ProjectedHR]": {
            "title": "2020 Projected HR"
           },
           "[Hierarchies].[Player].[AllMember].[longoev01].[Evan Longoria],[Measures].[PlayerTotalHRYear]": {
            "title": "Career HR"
           },
           "[Hierarchies].[Player].[AllMember].[mccanbr01].[Brian McCann],[Measures].[2020ProjectedHR]": {
            "title": "2020 Projected HR"
           },
           "[Hierarchies].[Player].[AllMember].[mccanbr01].[Brian McCann],[Measures].[PlayerTotalHRYear]": {
            "title": "Career HR"
           },
           "[Hierarchies].[Player].[AllMember].[moralke01].[Kendrys Morales],[Measures].[PlayerTotalHRYear]": {
            "title": "Career HR"
           },
           "[Hierarchies].[Player].[AllMember].[pencehu01].[Hunter Pence],[Measures].[2020ProjectedHR]": {
            "title": "2020 Projected HR"
           },
           "[Hierarchies].[Player].[AllMember].[pencehu01].[Hunter Pence],[Measures].[PlayerTotalHRYear]": {
            "title": "Career HR"
           },
           "[Hierarchies].[Player].[AllMember].[pujolal01].[Albert Pujols],[Measures].[2020ProjectedHR]": {
            "title": "2020 Projected HR"
           },
           "[Hierarchies].[Player].[AllMember].[pujolal01].[Albert Pujols],[Measures].[2020ProjectedHits]": {
            "title": "ProjectedHits"
           },
           "[Hierarchies].[Player].[AllMember].[pujolal01].[Albert Pujols],[Measures].[PlayerTotalHRYear]": {
            "title": "Career HR"
           },
           "[Hierarchies].[Player].[AllMember].[pujolal01].[Albert Pujols],[Measures].[PlayerTotalHitsYear]": {
            "title": "Total Hits To Date"
           },
           "[Hierarchies].[Player].[AllMember].[pujolal01].[Albert Pujols],[Measures].[Projected End Of 2020 Season Hits]": {
            "title": "Projected End Of 2020 Season Hits"
           },
           "[Hierarchies].[Player].[AllMember].[ramirha01].[Hanley Ramirez],[Measures].[2020ProjectedHR]": {
            "title": "2020 Projected HR"
           },
           "[Hierarchies].[Player].[AllMember].[ramirha01].[Hanley Ramirez],[Measures].[PlayerTotalHRYear]": {
            "title": "Career HR"
           },
           "[Hierarchies].[Player].[AllMember].[reynoma01].[Mark Reynolds],[Measures].[2020ProjectedHR]": {
            "title": "2020 Projected HR"
           },
           "[Hierarchies].[Player].[AllMember].[reynoma01].[Mark Reynolds],[Measures].[PlayerTotalHRYear]": {
            "title": "Career HRr"
           }
          }
         }
        },
        "contextValues": {},
        "mdx": "SELECT NON EMPTY [Hierarchies].[Player].[FullName].Members ON ROWS, NON EMPTY {[Measures].[Career Length], [Measures].[PlayerAge], [Measures].[HR], [Measures].[PlayerTotalHRYear], [Measures].[Hits], [Measures].[PlayerTotalHitsYear]} ON COLUMNS FROM (SELECT Filter([Hierarchies].[Year].[yearID].Members, [Measures].[Latest Season] = 2019) ON COLUMNS FROM (SELECT [Hierarchies].[Player].[ALL].[AllMember].[cabremi01].[Miguel Cabrera] ON COLUMNS FROM [Stats])) CELL PROPERTIES VALUE, FORMATTED_VALUE, BACK_COLOR, FORE_COLOR, FONT_FLAGS",
        "ranges": {
         "column": {
          "chunkSize": 20,
          "thresholdPercentage": 0.1
         },
         "row": {
          "chunkSize": 20,
          "thresholdPercentage": 0.1
         }
        },
        "serverUrl": "",
        "updateMode": "once"
       },
       "containerKey": "featured-values",
       "showTitleBar": false,
       "style": {}
      }
     }
    }
   },
   "outputs": [
    {
     "data": {
      "application/vnd.atoti.v0+json": {
       "cube": "Stats",
       "name": "Cabera End of 2019 Stats",
       "session": "Unnamed"
      },
      "text/plain": [
       "Install and enable the atoti JupyterLab extension to see this widget."
      ]
     },
     "metadata": {},
     "output_type": "display_data"
    }
   ],
   "source": [
    "cube.visualize(\"Cabera End of 2019 Stats\")"
   ]
  },
  {
   "cell_type": "markdown",
   "metadata": {},
   "source": [
    "Cabera is well within striking distance to joing  some excluive company the \"500 HR/3000 hits club\"! A feat attained by only 6 players in the history of Baseball."
   ]
  },
  {
   "cell_type": "code",
   "execution_count": 48,
   "metadata": {
    "atoti": {
     "height": 738,
     "state": {
      "name": "500 HR/3000 hits club",
      "type": "container",
      "value": {
       "body": {
        "configuration": {
         "featuredValues": {
          "locations": {
           "[Hierarchies].[Player].[AllMember].[aaronha01].[Hank Aaron],[Measures].[Career Length]": {
            "title": "Hank Aaron Career Length"
           },
           "[Hierarchies].[Player].[AllMember].[aaronha01].[Hank Aaron],[Measures].[HR]": {
            "title": " Hank Aaron HR"
           },
           "[Hierarchies].[Player].[AllMember].[aaronha01].[Hank Aaron],[Measures].[Hits]": {
            "title": "Hank Aaron Hits"
           },
           "[Hierarchies].[Player].[AllMember].[aaronha01].[Hank Aaron],[Measures].[PlayerAge]": {
            "title": "Hank Aaron Age"
           },
           "[Hierarchies].[Player].[AllMember].[mayswi01].[Willie Mays],[Measures].[Career Length]": {
            "title": "Willie Mays Career Length"
           },
           "[Hierarchies].[Player].[AllMember].[mayswi01].[Willie Mays],[Measures].[HR]": {
            "title": "Willie Mays HR"
           },
           "[Hierarchies].[Player].[AllMember].[mayswi01].[Willie Mays],[Measures].[Hits]": {
            "title": "Willie Mays Hits"
           },
           "[Hierarchies].[Player].[AllMember].[mayswi01].[Willie Mays],[Measures].[PlayerAge]": {
            "title": "Willie Mays Age"
           },
           "[Hierarchies].[Player].[AllMember].[murraed02].[Eddie Murray],[Measures].[Career Length]": {
            "title": "Eddie Murray Career Length"
           },
           "[Hierarchies].[Player].[AllMember].[murraed02].[Eddie Murray],[Measures].[HR]": {
            "title": " Eddie Murray HR"
           },
           "[Hierarchies].[Player].[AllMember].[murraed02].[Eddie Murray],[Measures].[Hits]": {
            "title": "Eddie Murray Hits"
           },
           "[Hierarchies].[Player].[AllMember].[murraed02].[Eddie Murray],[Measures].[PlayerAge]": {
            "title": "Eddie Murray Age"
           },
           "[Hierarchies].[Player].[AllMember].[palmera01].[Rafael Palmeiro],[Measures].[Career Length]": {
            "title": " Rafael Palmeiro Career Length"
           },
           "[Hierarchies].[Player].[AllMember].[palmera01].[Rafael Palmeiro],[Measures].[HR]": {
            "title": "Rafael Palmeiro HR"
           },
           "[Hierarchies].[Player].[AllMember].[palmera01].[Rafael Palmeiro],[Measures].[Hits]": {
            "title": "Rafael Palmeiro Hits"
           },
           "[Hierarchies].[Player].[AllMember].[palmera01].[Rafael Palmeiro],[Measures].[PlayerAge]": {
            "title": "Rafael Palmeiro Age"
           },
           "[Hierarchies].[Player].[AllMember].[pujolal01].[Albert Pujols],[Measures].[Career Length]": {
            "title": "Albert Pujols Career Length"
           },
           "[Hierarchies].[Player].[AllMember].[pujolal01].[Albert Pujols],[Measures].[HR]": {
            "title": "Albert Pujols HR"
           },
           "[Hierarchies].[Player].[AllMember].[pujolal01].[Albert Pujols],[Measures].[Hits]": {
            "title": "Albert Pujols Hits"
           },
           "[Hierarchies].[Player].[AllMember].[pujolal01].[Albert Pujols],[Measures].[PlayerAge]": {
            "title": "Albert Pujols Age"
           },
           "[Hierarchies].[Player].[AllMember].[rodrial01].[Alex Rodriguez],[Measures].[Career Length]": {
            "title": "Alex Rodriguez Career Length"
           },
           "[Hierarchies].[Player].[AllMember].[rodrial01].[Alex Rodriguez],[Measures].[HR]": {
            "title": "Alex Rodriguez HR"
           },
           "[Hierarchies].[Player].[AllMember].[rodrial01].[Alex Rodriguez],[Measures].[Hits]": {
            "title": "Alex Rodriguez Hits"
           },
           "[Hierarchies].[Player].[AllMember].[rodrial01].[Alex Rodriguez],[Measures].[PlayerAge]": {
            "title": "Alex Rodriguez Age"
           }
          }
         }
        },
        "contextValues": {},
        "mdx": "SELECT NON EMPTY [Hierarchies].[Player].[FullName].Members ON ROWS, NON EMPTY {[Measures].[Hits], [Measures].[HR]} ON COLUMNS FROM (SELECT Filter([Hierarchies].[Player].[playerID].Members, [Measures].[CareerHR] >= 500) ON COLUMNS FROM (SELECT Filter([Hierarchies].[Player].[playerID].Members, [Measures].[CareerHits] >= 3000) ON COLUMNS FROM [Stats])) CELL PROPERTIES VALUE, FORMATTED_VALUE, BACK_COLOR, FORE_COLOR, FONT_FLAGS",
        "ranges": {
         "column": {
          "chunkSize": 20,
          "thresholdPercentage": 0.1
         },
         "row": {
          "chunkSize": 20,
          "thresholdPercentage": 0.1
         }
        },
        "serverUrl": "",
        "updateMode": "once"
       },
       "containerKey": "featured-values",
       "showTitleBar": false,
       "style": {}
      }
     }
    }
   },
   "outputs": [
    {
     "data": {
      "application/vnd.atoti.v0+json": {
       "cube": "Stats",
       "name": "500 HR/3000 hits club",
       "session": "Unnamed"
      },
      "text/plain": [
       "Install and enable the atoti JupyterLab extension to see this widget."
      ]
     },
     "metadata": {},
     "output_type": "display_data"
    }
   ],
   "source": [
    "cube.visualize(\"500 HR/3000 hits club\")"
   ]
  },
  {
   "cell_type": "markdown",
   "metadata": {},
   "source": [
    "Let's run a simulation to see what the impact of the shortened 2020 season would be assuming that Cabera \"plays to the back of his baseball card\" defined as he attains his median hits and home rune per game for the season.  The base will be the now accpted 60 games season versus a standard 162 game season"
   ]
  },
  {
   "cell_type": "code",
   "execution_count": 49,
   "metadata": {},
   "outputs": [],
   "source": [
    "Season_simulation = cube.setup_simulation(\n",
    "    \"Impact 2020 Season Length Simulation\",\n",
    "    replace=[m[\"2020 Season Length\"]],\n",
    "    base_scenario=\"2020 60 Game Season\",\n",
    ")"
   ]
  },
  {
   "cell_type": "code",
   "execution_count": 50,
   "metadata": {},
   "outputs": [],
   "source": [
    "Season_simulation.scenarios[\"Full Length 2020\"] = 162"
   ]
  },
  {
   "cell_type": "markdown",
   "metadata": {},
   "source": [
    "<h3>What do Cabera's projected Numbers look like in the 60 game COVID season versus a normal 162 Game Season?</h3>"
   ]
  },
  {
   "cell_type": "code",
   "execution_count": 52,
   "metadata": {
    "atoti": {
     "height": 251,
     "state": {
      "name": "",
      "type": "container",
      "value": {
       "body": {
        "configuration": {
         "featuredValues": {
          "locations": {
           "[Hierarchies].[Player].[AllMember].[cabremi01].[Miguel Cabrera],[Measure Simulations].[Impact 2020 Season Length Simulation].[2020 60 Game Season],[Measures].[Projected End Of Season Career HRs]": {
            "title": "60 Game Season Projected Career HRs"
           },
           "[Hierarchies].[Player].[AllMember].[cabremi01].[Miguel Cabrera],[Measure Simulations].[Impact 2020 Season Length Simulation].[2020 60 Game Season],[Measures].[Projected End Of Season Career Hits]": {
            "title": "60 Game Season Projected Career Hits"
           },
           "[Hierarchies].[Player].[AllMember].[cabremi01].[Miguel Cabrera],[Measure Simulations].[Impact 2020 Season Length Simulation].[2020 60 Game Season],[Measures].[Projected HR]": {
            "title": "60 Game Season Projected HR"
           },
           "[Hierarchies].[Player].[AllMember].[cabremi01].[Miguel Cabrera],[Measure Simulations].[Impact 2020 Season Length Simulation].[2020 60 Game Season],[Measures].[Projected Hits]": {
            "title": "60 Game Season Projected Hits"
           },
           "[Hierarchies].[Player].[AllMember].[cabremi01].[Miguel Cabrera],[Measure Simulations].[Impact 2020 Season Length Simulation].[Full Length 2020],[Measures].[Projected End Of Season Career HRs]": {
            "title": "162 Game Season Projected Career HRs"
           },
           "[Hierarchies].[Player].[AllMember].[cabremi01].[Miguel Cabrera],[Measure Simulations].[Impact 2020 Season Length Simulation].[Full Length 2020],[Measures].[Projected End Of Season Career Hits]": {
            "title": "162 Game Season Projected Career Hits"
           },
           "[Hierarchies].[Player].[AllMember].[cabremi01].[Miguel Cabrera],[Measure Simulations].[Impact 2020 Season Length Simulation].[Full Length 2020],[Measures].[Projected HR]": {
            "title": "162 Game Season Projected HR"
           },
           "[Hierarchies].[Player].[AllMember].[cabremi01].[Miguel Cabrera],[Measure Simulations].[Impact 2020 Season Length Simulation].[Full Length 2020],[Measures].[Projected Hits]": {
            "title": "162 Game Season Projected Hits"
           },
           "[Measure Simulations].[Impact 2020 Season Length Simulation].[2020 60 Game Season],[Hierarchies].[Player].[AllMember].[cabremi01].[Miguel Cabrera],[Measures].[2020ProjectedHR]": {
            "title": "2020 60 Game Season 2020 HR"
           },
           "[Measure Simulations].[Impact 2020 Season Length Simulation].[2020 60 Game Season],[Hierarchies].[Player].[AllMember].[cabremi01].[Miguel Cabrera],[Measures].[2020ProjectedHits]": {
            "title": " Cabera  2020 60 Game Projected Hits"
           },
           "[Measure Simulations].[Impact 2020 Season Length Simulation].[2020 60 Game Season],[Hierarchies].[Player].[AllMember].[cabremi01].[Miguel Cabrera],[Measures].[Projected End Of 2020 Season HRs]": {
            "title": "Projected End Of 2020 Season HRs"
           },
           "[Measure Simulations].[Impact 2020 Season Length Simulation].[2020 60 Game Season],[Hierarchies].[Player].[AllMember].[cabremi01].[Miguel Cabrera],[Measures].[Projected End Of 2020 Season Hits]": {
            "title": "Projected End of Season Hits"
           },
           "[Measure Simulations].[Impact 2020 Season Length Simulation].[2020 60 Game Season],[Hierarchies].[Player].[AllMember].[cabremi01].[Miguel Cabrera],[Measures].[Projected End Of Season Career HRs]": {
            "title": "Cabrera 60 Game Season Projected End Of Season Career HRs"
           },
           "[Measure Simulations].[Impact 2020 Season Length Simulation].[2020 60 Game Season],[Hierarchies].[Player].[AllMember].[cabremi01].[Miguel Cabrera],[Measures].[Projected End Of Season Career Hits]": {
            "title": "Projected End Of Season Career Hits"
           },
           "[Measure Simulations].[Impact 2020 Season Length Simulation].[2020 60 Game Season],[Hierarchies].[Player].[AllMember].[cabremi01].[Miguel Cabrera],[Measures].[Projected HR]": {
            "title": "Cabrera 2020 60 Game Season Projected HR"
           },
           "[Measure Simulations].[Impact 2020 Season Length Simulation].[2020 60 Game Season],[Hierarchies].[Player].[AllMember].[cabremi01].[Miguel Cabrera],[Measures].[Projected Hits]": {
            "title": "Cabrera 2020 60 Game Season Projected Hits"
           },
           "[Measure Simulations].[Impact 2020 Season Length Simulation].[Full Length 2020],[Hierarchies].[Player].[AllMember].[cabremi01].[Miguel Cabrera],[Measures].[2020ProjectedHR]": {
            "title": "Full Length Season 2020 Projected HR"
           },
           "[Measure Simulations].[Impact 2020 Season Length Simulation].[Full Length 2020],[Hierarchies].[Player].[AllMember].[cabremi01].[Miguel Cabrera],[Measures].[2020ProjectedHits]": {
            "title": "Cabera Full Length 2020 Projected Hits"
           },
           "[Measure Simulations].[Impact 2020 Season Length Simulation].[Full Length 2020],[Hierarchies].[Player].[AllMember].[cabremi01].[Miguel Cabrera],[Measures].[Projected End Of 2020 Season HRs]": {
            "title": "Full Length 2020 Projected End Of 2020 Season Hits"
           },
           "[Measure Simulations].[Impact 2020 Season Length Simulation].[Full Length 2020],[Hierarchies].[Player].[AllMember].[cabremi01].[Miguel Cabrera],[Measures].[Projected End Of 2020 Season Hits]": {
            "title": " Projected End Of  Season Hits"
           }
          }
         }
        },
        "contextValues": {},
        "mdx": "SELECT NON EMPTY Crossjoin([Hierarchies].[Player].[FullName].Members, [Measure Simulations].[Impact 2020 Season Length Simulation].[Impact 2020 Season Length Simulation].Members) ON ROWS, NON EMPTY {[Measures].[Projected Hits], [Measures].[Projected End Of Season Career Hits], [Measures].[Projected HR], [Measures].[Projected End Of Season Career HRs]} ON COLUMNS FROM (SELECT {[Measure Simulations].[Impact 2020 Season Length Simulation].[Impact 2020 Season Length Simulation].[2020 60 Game Season], [Measure Simulations].[Impact 2020 Season Length Simulation].[Impact 2020 Season Length Simulation].[Full Length 2020]} ON COLUMNS FROM (SELECT [Hierarchies].[Player].[ALL].[AllMember].[cabremi01].[Miguel Cabrera] ON COLUMNS FROM [Stats] WHERE [Hierarchies].[Year].[ALL].[AllMember].[2019]) WHERE [Hierarchies].[Year].[ALL].[AllMember].[2019]) WHERE [Hierarchies].[Year].[ALL].[AllMember].[2019] CELL PROPERTIES VALUE, FORMATTED_VALUE, BACK_COLOR, FORE_COLOR, FONT_FLAGS",
        "ranges": {
         "column": {
          "chunkSize": 20,
          "thresholdPercentage": 0.1
         },
         "row": {
          "chunkSize": 20,
          "thresholdPercentage": 0.1
         }
        },
        "serverUrl": "",
        "updateMode": "once"
       },
       "containerKey": "featured-values",
       "showTitleBar": false,
       "style": {}
      }
     }
    }
   },
   "outputs": [
    {
     "data": {
      "application/vnd.atoti.v0+json": {
       "cube": "Stats",
       "name": null,
       "session": "Unnamed"
      },
      "text/plain": [
       "Install and enable the atoti JupyterLab extension to see this widget."
      ]
     },
     "metadata": {},
     "output_type": "display_data"
    }
   ],
   "source": [
    "cube.visualize()"
   ]
  },
  {
   "cell_type": "markdown",
   "metadata": {},
   "source": [
    "So per the assumptions of this analysis, if 2020 was a full season,  having a \"median year\" Cabera would not get him into the \"500 HR/3000 hits club\", but  he would be <u>very close</u>.  It would certainly not be outside the realm of possibility that if he had a better than average year he could find an extra 19 hits and 9 homeruns over the course of 162 games.  Even if he missed in 2020, getting those landmarks would seem very likely even if Cabera had an off year in 2021.\n",
    "\n",
    "The concern is that coming out of the shortened season, what would Cabera's numbers look like if after a \"median\" full 162 game season followed a \"median\" Covid Shortened season?  Lets run another simulation, where we project a 60 game season followed by a 162 game season. "
   ]
  },
  {
   "cell_type": "code",
   "execution_count": 53,
   "metadata": {},
   "outputs": [],
   "source": [
    "Season_simulation.scenarios[\"Covid Season followed by Full Length 2021\"] = 60+162"
   ]
  },
  {
   "cell_type": "code",
   "execution_count": 55,
   "metadata": {
    "atoti": {
     "height": 115,
     "state": {
      "name": "",
      "type": "container",
      "value": {
       "body": {
        "configuration": {
         "featuredValues": {
          "locations": {
           "[Measure Simulations].[Impact 2020 Season Length Simulation].[Covid Season followed by Full Length 2021],[Hierarchies].[Player].[AllMember].[cabremi01].[Miguel Cabrera],[Measures].[Projected End Of Season Career HRs]": {
            "title": "Projected End Of 2021 Season Career HRs"
           },
           "[Measure Simulations].[Impact 2020 Season Length Simulation].[Covid Season followed by Full Length 2021],[Hierarchies].[Player].[AllMember].[cabremi01].[Miguel Cabrera],[Measures].[Projected End Of Season Career Hits]": {
            "title": "Projected End Of 2021 Season Career Hits"
           },
           "[Measure Simulations].[Impact 2020 Season Length Simulation].[Covid Season followed by Full Length 2021],[Hierarchies].[Player].[AllMember].[cabremi01].[Miguel Cabrera],[Measures].[Projected HR]": {
            "title": "2021 Projected Hits Projected HR"
           },
           "[Measure Simulations].[Impact 2020 Season Length Simulation].[Covid Season followed by Full Length 2021],[Hierarchies].[Player].[AllMember].[cabremi01].[Miguel Cabrera],[Measures].[Projected Hits]": {
            "title": "2021 Projected Hits"
           }
          }
         }
        },
        "contextValues": {},
        "mdx": "SELECT NON EMPTY [Hierarchies].[Player].[FullName].Members ON ROWS, NON EMPTY Crossjoin([Measure Simulations].[Impact 2020 Season Length Simulation].[Impact 2020 Season Length Simulation].Members, {[Measures].[Projected Hits], [Measures].[Projected End Of Season Career Hits], [Measures].[Projected HR], [Measures].[Projected End Of Season Career HRs]}) ON COLUMNS FROM (SELECT [Measure Simulations].[Impact 2020 Season Length Simulation].[Impact 2020 Season Length Simulation].[Covid Season followed by Full Length 2021] ON COLUMNS FROM (SELECT [Hierarchies].[Player].[ALL].[AllMember].[cabremi01].[Miguel Cabrera] ON COLUMNS FROM [Stats])) WHERE [Hierarchies].[Year].[ALL].[AllMember].[2019] CELL PROPERTIES VALUE, FORMATTED_VALUE, BACK_COLOR, FORE_COLOR, FONT_FLAGS",
        "ranges": {
         "column": {
          "chunkSize": 20,
          "thresholdPercentage": 0.1
         },
         "row": {
          "chunkSize": 20,
          "thresholdPercentage": 0.1
         }
        },
        "serverUrl": "",
        "updateMode": "once"
       },
       "containerKey": "featured-values",
       "showTitleBar": false,
       "style": {}
      }
     }
    }
   },
   "outputs": [
    {
     "data": {
      "application/vnd.atoti.v0+json": {
       "cube": "Stats",
       "name": null,
       "session": "Unnamed"
      },
      "text/plain": [
       "Install and enable the atoti JupyterLab extension to see this widget."
      ]
     },
     "metadata": {},
     "output_type": "display_data"
    }
   ],
   "source": [
    "cube.visualize()"
   ]
  },
  {
   "cell_type": "markdown",
   "metadata": {},
   "source": [
    "So the COVID shortened Season turns Miguel Cabera's highly likely induction into the \"500 HR/3000 hits club\" by the 2021 season under normal circumstanse into a far risky proposition, changing it from an opptomistic \"one season away\" to a potential \"three seasons away\" with all the risks that playning an additional three late career seasons entails.\n",
    "\n",
    "We will have to see the results and if ATOTI disproves that \"<i>You can’t predict baseball Suzyn</i>\""
   ]
  },
  {
   "cell_type": "code",
   "execution_count": null,
   "metadata": {},
   "outputs": [],
   "source": []
  }
 ],
 "metadata": {
  "kernelspec": {
   "display_name": "Python 3",
   "language": "python",
   "name": "python3"
  },
  "language_info": {
   "codemirror_mode": {
    "name": "ipython",
    "version": 3
   },
   "file_extension": ".py",
   "mimetype": "text/x-python",
   "name": "python",
   "nbconvert_exporter": "python",
   "pygments_lexer": "ipython3",
   "version": "3.7.6"
  }
 },
 "nbformat": 4,
 "nbformat_minor": 4
}
